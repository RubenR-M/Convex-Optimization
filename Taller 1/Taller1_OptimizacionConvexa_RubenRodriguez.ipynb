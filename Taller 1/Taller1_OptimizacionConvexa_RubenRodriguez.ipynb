{
  "nbformat": 4,
  "nbformat_minor": 0,
  "metadata": {
    "colab": {
      "name": "Taller_1_RubenRodriguez.ipynb",
      "provenance": [],
      "collapsed_sections": []
    },
    "kernelspec": {
      "display_name": "Python 3",
      "name": "python3"
    }
  },
  "cells": [
    {
      "cell_type": "markdown",
      "metadata": {
        "id": "yeA6xblhq8w8"
      },
      "source": [
        "# Unit 1 - Linear Algebra"
      ]
    },
    {
      "cell_type": "markdown",
      "metadata": {
        "id": "F-3yQvOQHjLr"
      },
      "source": [
        "Linear algebra is the branch of mathematics concerning linear equations and linear functions and their representations through matrices and vector spaces.\n",
        "\n",
        "Machine Learning relies heavily on Linear Algebra, so it is essential to understand what vectors and matrices are, what operations you can perform with them, and how they can be useful.\n",
        "\n",
        "If you have had no exposure at all to linear algebra, this chapter will teach you enough to read this book."
      ]
    },
    {
      "cell_type": "code",
      "metadata": {
        "id": "of02mDcgUuHQ"
      },
      "source": [
        "# Imports\n",
        "import tensorflow as tf\n",
        "import sys\n",
        "import numpy as np\n",
        "import matplotlib.pyplot as plt\n",
        "import pandas as pd"
      ],
      "execution_count": 1,
      "outputs": []
    },
    {
      "cell_type": "code",
      "metadata": {
        "id": "m2tKh8q3GgWO"
      },
      "source": [
        "# Auxiliars functions for plots\n",
        "import matplotlib.pyplot as plt\n",
        "from matplotlib.patches import Polygon\n",
        "import numpy as np\n",
        "import tensorflow as tf\n",
        "\n",
        "\n",
        "def vector_plot(vecs, xlim, ylim, cols=[\"#1190FF\", \"#FF9A13\"], alpha=1):\n",
        "    plt.rc_context({'axes.edgecolor':'orange', 'xtick.color':'red', 'ytick.color':'red'})\n",
        "    plt.axvline(x=0, color='k', zorder=0)\n",
        "    plt.axhline(y=0, color='k', zorder=0)\n",
        "\n",
        "    for i in range(len(vecs)):\n",
        "        if (isinstance(alpha, list)):\n",
        "            alpha_i = alpha[i]\n",
        "        else:\n",
        "            alpha_i = alpha\n",
        "        x = np.concatenate([[0,0],vecs[i]])\n",
        "        plt.quiver([x[0]],\n",
        "                   [x[1]],\n",
        "                   [x[2]],\n",
        "                   [x[3]],\n",
        "                   angles='xy', scale_units='xy', scale=1, color=cols[i],\n",
        "                  alpha=alpha_i)\n",
        "    plt.ylim(-xlim, xlim)\n",
        "    plt.xlim(-ylim, ylim)\n",
        "    plt.grid()\n",
        "\n",
        "\n",
        "def plot_vector2d(vector2d, origin=[0, 0], **options):\n",
        "    return plt.arrow(origin[0], origin[1], vector2d[0], vector2d[1],\n",
        "              head_width=0.2, head_length=0.3, length_includes_head=True,\n",
        "              **options)\n",
        "\n",
        "\n",
        "def plot_transform(P_before, P_after, text_before, text_after, name, color=['#FF9A13', '#1190FF'], axis = [0, 5, 0, 4], arrows=False):\n",
        "    if arrows:\n",
        "        for vector_before, vector_after in zip(tf.transpose(P_before), tf.transpose(P_after)):\n",
        "            plot_vector2d(vector_before, color=\"#FF9A13\", linestyle=\"--\")\n",
        "            plot_vector2d(vector_after, color=\"#1190FF\", linestyle=\"-\")\n",
        "    plt.rc_context({'axes.edgecolor':'orange', 'xtick.color':'red', 'ytick.color':'red'})\n",
        "    plt.gca().add_artist(Polygon(tf.transpose(P_before), alpha=0.2))\n",
        "    plt.gca().add_artist(Polygon(tf.transpose(P_after), alpha=0.3, color=\"#FF9A13\"))\n",
        "    plt.text(-.25, 1, text_before, size=18, color=color[1])\n",
        "    plt.text(1.5, 0, text_after, size=18, color=color[0])\n",
        "    plt.title(name, color='w')\n",
        "    plt.axis(axis)\n",
        "    plt.grid()\n",
        "\n",
        "\n",
        "def evaluate(tensors):\n",
        "    \"\"\"Evaluates Tensor or EagerTensor to Numpy `ndarray`s.\n",
        "    Args:\n",
        "    tensors: Object of `Tensor` or EagerTensor`s; can be `list`, `tuple`,\n",
        "      `namedtuple` or combinations thereof.\n",
        "    Returns:\n",
        "      ndarrays: Object with same structure as `tensors` except with `Tensor` or\n",
        "        `EagerTensor`s replaced by Numpy `ndarray`s.\n",
        "    \"\"\"\n",
        "    return tf.nest.pack_sequence_as(tensors,[t.numpy() if tf.is_tensor(t) else t for t in tf.nest.flatten(tensors)])"
      ],
      "execution_count": 2,
      "outputs": []
    },
    {
      "cell_type": "markdown",
      "metadata": {
        "id": "JBpOlp4jrAoy"
      },
      "source": [
        "# Section 1.1: Scalars, Vectors, Matrices and Tensors"
      ]
    },
    {
      "cell_type": "markdown",
      "metadata": {
        "id": "kWXNG-cmHrih"
      },
      "source": [
        "__Scalars:__ are just a single number $x \\in \\mathbb{R}$\n",
        "\n",
        "\n",
        "__Vectors:__ are an array of numbers $ \\mathbf{x} \\in \\mathbb{R} ^n$. The vectors are always written vertically. Normally in the literature you can find vector row and vector column, but the row vector is only the usual transposed vector.\n",
        "\n",
        "__Matrices:__ A matrix is a 2D-array of numbers, so each element is identified by two indices instead of just one. If a real valued matrix $A$ has a height of *m* and a width of *n*, then we say that $A \\in \\mathbb{R}^{m \\times n}$. We identify the elements of the matrix as $A_{m,n}$ where *m* represents the row and *n* represents the column.\n",
        "\n",
        "![Scalars, Vectors, Matrices and Tensors](https://raw.githubusercontent.com/adhiraiyan/DeepLearningWithTF2.0/master/notebooks/figures/fig0201a.png)\n",
        "\n",
        "__Tensors:__ In the general case, are an array of numbers arranged on a regular grid with a variable number of axes is knows as a tensor. We identify the elements of a tensor $A$ at coordinates(*i, j, k*) by writing $A_{i, j, k}$. But to truly understand tensors, we need to expand the way we think of vectors as only arrows with a magnitude and direction. Remember that a vector can be represented by three components, namely the x, y and z components (basis vectors). If you have a pen and a paper, let's do a small experiment, place the pen vertically on the paper and slant it by some angle and now shine a light from top such that the shadow of the pen falls on the paper, this shadow, represents the x component of the vector \"pen\" and the height from the paper to the tip of the pen is the y component. Now, let's take these components to describe tensors, imagine, you are Indiana Jones or a treasure hunter and you are trapped in a cube and there are three arrows flying towards you from the three faces (to represent x, y, z axis) of the cube, I know this will be the last thing you would think in such a situation but you can think of those three arrows as vectors pointing towards you from the three faces of the cube and you can represent those vectors (arrows) in x, y and z components, now that is a rank 2 tensor (matrix) with 9 components. Remember that this is a very very simple explanation of tensors. Following is a representation of a tensor:\n",
        "\n",
        "![Tensors](https://raw.githubusercontent.com/adhiraiyan/DeepLearningWithTF2.0/master/notebooks/figures/fig0201b.PNG)\n"
      ]
    },
    {
      "cell_type": "markdown",
      "metadata": {
        "id": "5h-JjvTbepB9"
      },
      "source": [
        "#Operations with Tensors"
      ]
    },
    {
      "cell_type": "markdown",
      "metadata": {
        "id": "HdIOKDSbNBaz"
      },
      "source": [
        "We can add or subtract  matrices to each other as long as they have the same shape, just by adding their corresponding elements:\n",
        "\n",
        "$$\\color{orange}{C = A \\pm B \\ where \\ C_{i,j} = A_{i,j} \\pm B_{i,j} \\tag{1}}$$\n",
        "\n",
        "\n",
        "In tensorial notation :\n",
        "\n",
        "- Tensor with dimension 0 is a Scalar\n",
        "- Tensor with dimension 1 is a Vector\n",
        "- Tensor with dimensions 2 is a Matrix\n",
        "- Tensor with dimensions 3 is a 3-Tensor\n",
        "- Tensor with dimensions n is a n-Tensor or Tensor of order-n"
      ]
    },
    {
      "cell_type": "code",
      "metadata": {
        "colab": {
          "base_uri": "https://localhost:8080/"
        },
        "id": "tHeASrcZuDcV",
        "outputId": "3a59e697-e612-417d-988c-2deda3012a13"
      },
      "source": [
        "# let's create a ones 3x3 tensor of order 2\n",
        "rank_2_tensor_A = tf.ones([3, 3], name='MatrixA')\n",
        "print(\"3x3 Tensor of order 2 A: \\n{}\\n\".format(rank_2_tensor_A))\n",
        "\n",
        "# let's manually create a 3x3 rank two tensor and specify the data type as float\n",
        "rank_2_tensor_B = tf.constant([[1, 2, 3], [4, 5, 6], [7, 8, 9]], name='MatrixB', dtype=tf.float32)\n",
        "print(\"3x3 Tensor of order 2 B: \\n{}\\n\".format(rank_2_tensor_B))\n",
        "\n",
        "# addition of the two tensors\n",
        "rank_2_tensor_C = tf.add(rank_2_tensor_A, rank_2_tensor_B, name='MatrixC')\n",
        "print(\"Tensor of order 2 C with shape={} and elements: \\n{}\".format(rank_2_tensor_C.shape, rank_2_tensor_C))\n",
        "\n",
        "# Substract the first column of rank_2_tensor_A with rank_2_tensor_B manually\n",
        "# ------- Your code is here -------- #\n",
        "\n",
        "# toma el primer elemento de cada fila\n",
        "column = []\n",
        "for i in range(rank_2_tensor_A.shape[0]):\n",
        "  column.append(rank_2_tensor_A[i][0])\n",
        "\n",
        "#rank_2_tensor_A[:,0]\n",
        "rank_2_tensor_D = tf.subtract(column,rank_2_tensor_B, name='MatrixD')\n",
        "print(\"Tensor of order 2 C with shape={} and elements: \\n{}\".format(rank_2_tensor_D.shape, rank_2_tensor_D))\n"
      ],
      "execution_count": 62,
      "outputs": [
        {
          "output_type": "stream",
          "name": "stdout",
          "text": [
            "3x3 Tensor of order 2 A: \n",
            "[[1. 1. 1.]\n",
            " [1. 1. 1.]\n",
            " [1. 1. 1.]]\n",
            "\n",
            "3x3 Tensor of order 2 B: \n",
            "[[1. 2. 3.]\n",
            " [4. 5. 6.]\n",
            " [7. 8. 9.]]\n",
            "\n",
            "Tensor of order 2 C with shape=(3, 3) and elements: \n",
            "[[ 2.  3.  4.]\n",
            " [ 5.  6.  7.]\n",
            " [ 8.  9. 10.]]\n",
            "  [<tf.Tensor: shape=(), dtype=float32, numpy=1.0>, <tf.Tensor: shape=(), dtype=float32, numpy=1.0>, <tf.Tensor: shape=(), dtype=float32, numpy=1.0>]\n",
            "Tensor of order 2 C with shape=(3, 3) and elements: \n",
            "[[ 0. -1. -2.]\n",
            " [-3. -4. -5.]\n",
            " [-6. -7. -8.]]\n"
          ]
        }
      ]
    },
    {
      "cell_type": "code",
      "source": [
        "rank_2_tensor_A.shape[0]"
      ],
      "metadata": {
        "colab": {
          "base_uri": "https://localhost:8080/"
        },
        "id": "o4n7XRj3960k",
        "outputId": "2db28be0-fa1c-4b3f-825e-c729cad74968"
      },
      "execution_count": 53,
      "outputs": [
        {
          "output_type": "execute_result",
          "data": {
            "text/plain": [
              "3"
            ]
          },
          "metadata": {},
          "execution_count": 53
        }
      ]
    },
    {
      "cell_type": "markdown",
      "metadata": {
        "id": "ySidfmQYuVBk"
      },
      "source": [
        "We can only add two tensors which have the same dimension, then you must create a function that verifies the dimensions of the tensioners and say if it is possible the sum of them is possible"
      ]
    },
    {
      "cell_type": "code",
      "metadata": {
        "id": "hD3z1AIEuafQ",
        "colab": {
          "base_uri": "https://localhost:8080/"
        },
        "outputId": "adb557ba-c01d-4b00-a768-46a831b0cfa1"
      },
      "source": [
        "## Your coded is here\n",
        "\n",
        "def comp_shapes(a , b):\n",
        "\n",
        "  if a.shape == b.shape:\n",
        "    return True\n",
        "  else:\n",
        "    return False\n",
        "\n",
        "comp_shapes(rank_2_tensor_A, rank_2_tensor_A)  "
      ],
      "execution_count": 39,
      "outputs": [
        {
          "output_type": "execute_result",
          "data": {
            "text/plain": [
              "True"
            ]
          },
          "metadata": {},
          "execution_count": 39
        }
      ]
    },
    {
      "cell_type": "markdown",
      "metadata": {
        "id": "XuJ4rvIFNafT"
      },
      "source": [
        "We can also add a scalar to a matrix or multiply a matrix by a scalar, just by performing that operation on each element of a matrix:\n",
        "\n",
        "$$\\color{orange}{D = a \\cdot B \\pm c, \\ where  \\ D_{i,j} = a \\cdot B_{i,j} \\pm c \\tag{2}}$$"
      ]
    },
    {
      "cell_type": "code",
      "metadata": {
        "colab": {
          "base_uri": "https://localhost:8080/"
        },
        "id": "MLGUzKZqklMb",
        "outputId": "93cc12b7-c3cf-44eb-cff9-58e9d8824225"
      },
      "source": [
        "A = tf.ones((4,3))\n",
        "b = tf.ones((4,1))\n",
        "\n",
        "A+b"
      ],
      "execution_count": null,
      "outputs": [
        {
          "output_type": "execute_result",
          "data": {
            "text/plain": [
              "<tf.Tensor: shape=(4, 3), dtype=float32, numpy=\n",
              "array([[2., 2., 2.],\n",
              "       [2., 2., 2.],\n",
              "       [2., 2., 2.],\n",
              "       [2., 2., 2.]], dtype=float32)>"
            ]
          },
          "metadata": {
            "tags": []
          },
          "execution_count": 7
        }
      ]
    },
    {
      "cell_type": "code",
      "metadata": {
        "colab": {
          "base_uri": "https://localhost:8080/"
        },
        "id": "97sSpKcbTNoY",
        "outputId": "6020b5a7-66aa-44d5-e8b5-2e84e852d2ff"
      },
      "source": [
        "# Create scalar a, c and Matrix B\n",
        "rank_0_tensor_a = tf.constant(2, name=\"scalar_a\", dtype=tf.float32)\n",
        "rank_2_tensor_B = tf.constant([[1, 2, 3], [4, 5, 6], [7, 8, 9]], name='MatrixB', dtype=tf.float32)\n",
        "rank_0_tensor_c = tf.constant(3, name=\"scalar_c\", dtype=tf.float32)\n",
        "\n",
        "# multiplying aB\n",
        "multiply_scalar = tf.multiply(rank_0_tensor_a, rank_2_tensor_B)\n",
        "# adding aB + c\n",
        "rank_2_tensor_D = tf.add(multiply_scalar, rank_0_tensor_c)\n",
        "\n",
        "print(\"\"\"Original Tensor of order 2 B: \\n{0} \\n\\nScalar a: {1}\n",
        "Tensor of order 2 for aB: \\n{2} \\n\\nScalar c: {3} \\nTensor of order 2 D = aB + c: \\n{4}\n",
        "\"\"\".format(rank_2_tensor_B, rank_0_tensor_a, multiply_scalar, rank_0_tensor_c, rank_2_tensor_D))"
      ],
      "execution_count": 7,
      "outputs": [
        {
          "output_type": "stream",
          "name": "stdout",
          "text": [
            "Original Tensor of order 2 B: \n",
            "[[1. 2. 3.]\n",
            " [4. 5. 6.]\n",
            " [7. 8. 9.]] \n",
            "\n",
            "Scalar a: 2.0\n",
            "Tensor of order 2 for aB: \n",
            "[[ 2.  4.  6.]\n",
            " [ 8. 10. 12.]\n",
            " [14. 16. 18.]] \n",
            "\n",
            "Scalar c: 3.0 \n",
            "Tensor of order 2 D = aB + c: \n",
            "[[ 5.  7.  9.]\n",
            " [11. 13. 15.]\n",
            " [17. 19. 21.]]\n",
            "\n"
          ]
        }
      ]
    },
    {
      "cell_type": "markdown",
      "metadata": {
        "id": "5uI2sKntMyj6"
      },
      "source": [
        "One important operation on matrices is the __transpose__. The transpose of a matrix is the mirror image of the martrix across a diagonal line, called the __main diagonal__. We denote the transpose of a matrix $A$ as $A^\\top$ and is defined as such: $(A^\\top)_{i, j} = A_{j, i}$"
      ]
    },
    {
      "cell_type": "code",
      "metadata": {
        "colab": {
          "base_uri": "https://localhost:8080/"
        },
        "id": "pJwqOF1hzZNn",
        "outputId": "f1ba71d6-e7dd-4732-b93c-d5094af664e3"
      },
      "source": [
        "# Creating a Matrix E\n",
        "rank_2_tensor_E = tf.constant([[1, 2, 3], [4, 5, 6]])\n",
        "# Transposing Matrix E\n",
        "transpose_E = tf.transpose(rank_2_tensor_E, name=\"transposeE\")\n",
        "\n",
        "print(\"\"\"Order 2 Tensor E of shape: {0} and elements: \\n{1}\\n\n",
        "Transpose of Order 2 Tensor E of shape: {2} and elements: \\n{3}\"\"\".format(rank_2_tensor_E.shape, rank_2_tensor_E, \n",
        "                                                                         transpose_E.shape, transpose_E))"
      ],
      "execution_count": null,
      "outputs": [
        {
          "output_type": "stream",
          "text": [
            "Order 2 Tensor E of shape: (2, 3) and elements: \n",
            "[[1 2 3]\n",
            " [4 5 6]]\n",
            "\n",
            "Transpose of Order 2 Tensor E of shape: (3, 2) and elements: \n",
            "[[1 4]\n",
            " [2 5]\n",
            " [3 6]]\n"
          ],
          "name": "stdout"
        }
      ]
    },
    {
      "cell_type": "markdown",
      "metadata": {
        "id": "uU6F-99XM3_v"
      },
      "source": [
        "In deep learning we allow the addition of matrix and a vector, yielding another matrix where $C_{i, j} = A_{i, j} + b_{j}$. In other words, the vector $b$ is added to each row of the matrix. This implicit copying of $b$ to many locations is called __broadcasting__"
      ]
    },
    {
      "cell_type": "code",
      "metadata": {
        "colab": {
          "base_uri": "https://localhost:8080/"
        },
        "id": "v3s5ZyQKUSY6",
        "outputId": "d58dc250-a2e6-41d9-8ddf-d18b7d5454d9"
      },
      "source": [
        "# Creating a vector b\n",
        "rank_1_tensor_b = tf.constant([[4.], [5.], [6.]])\n",
        "# Broadcasting a vector b to a matrix A such that it yields a matrix F = A + b\n",
        "rank_2_tensor_F = tf.add(rank_2_tensor_A, rank_1_tensor_b)\n",
        "\n",
        "print(\"\"\"Tensor of order 2 A: \\n{0}\\n \\nTensor of order 2 b: \\n{1} \n",
        "\\nTensor of order 2 F = A + b:\\n{2}\"\"\".format(rank_2_tensor_A, rank_1_tensor_b, rank_2_tensor_F))"
      ],
      "execution_count": 8,
      "outputs": [
        {
          "output_type": "stream",
          "name": "stdout",
          "text": [
            "Tensor of order 2 A: \n",
            "[[1. 1. 1.]\n",
            " [1. 1. 1.]\n",
            " [1. 1. 1.]]\n",
            " \n",
            "Tensor of order 2 b: \n",
            "[[4.]\n",
            " [5.]\n",
            " [6.]] \n",
            "\n",
            "Tensor of order 2 F = A + b:\n",
            "[[5. 5. 5.]\n",
            " [6. 6. 6.]\n",
            " [7. 7. 7.]]\n"
          ]
        }
      ]
    },
    {
      "cell_type": "markdown",
      "metadata": {
        "id": "ziVxUA2WHyf4"
      },
      "source": [
        "#Multiplying Matrices and Vectors"
      ]
    },
    {
      "cell_type": "markdown",
      "metadata": {
        "id": "MzuhfYTyOR9N"
      },
      "source": [
        "To define the matrix product of matrices $A \\ \\text{and} \\ B, \\ A$ must have the same number of columns as $B$. If $A$ is of shape *m x n* and $B$ is of shape *n x p*, then $C$ is of shape *m x p*.\n",
        "\n",
        "$$\\color{orange}{C_{i, j} = \\displaystyle\\sum_k A_{i, k} B_{k, j} \\tag{3}}$$\n",
        "\n",
        "If you do not recall how matrix multiplication is performed, take a look at:\n",
        "\n",
        "![Multiplying Matrices](https://raw.githubusercontent.com/adhiraiyan/DeepLearningWithTF2.0/master/notebooks/figures/fig0202a.jpg)"
      ]
    },
    {
      "cell_type": "code",
      "metadata": {
        "colab": {
          "base_uri": "https://localhost:8080/"
        },
        "id": "Rrv8DzWuHzWR",
        "outputId": "32b7c441-6e92-422c-fe7c-5901169f66c8"
      },
      "source": [
        "# Matrix A and B with shapes (2, 3) and (3, 4)\n",
        "mmv_matrix_A = tf.ones([2, 3], name=\"matrix_A\")\n",
        "mmv_matrix_B = tf.constant([[1, 2, 3, 4], [1, 2, 3, 4], [1, 2, 3, 4]], name=\"matrix_B\", dtype=tf.float32)\n",
        "\n",
        "# Matrix Multiplication: C = AB with C shape (2, 4)\n",
        "matrix_multiply_C = tf.matmul(mmv_matrix_A, mmv_matrix_B, name=\"matrix_multiply_C\")\n",
        "\n",
        "print(\"\"\"Matrix A: shape {0} \\nelements: \\n{1} \\n\\nMatrix B: shape {2} \\nelements: \\n{3}\n",
        "\\nMatrix C: shape {4} \\nelements: \\n{5}\"\"\".format(mmv_matrix_A.shape, mmv_matrix_A, mmv_matrix_B.shape, \n",
        "                                                  mmv_matrix_B, matrix_multiply_C.shape, matrix_multiply_C))"
      ],
      "execution_count": null,
      "outputs": [
        {
          "output_type": "stream",
          "text": [
            "Matrix A: shape (2, 3) \n",
            "elements: \n",
            "[[1. 1. 1.]\n",
            " [1. 1. 1.]] \n",
            "\n",
            "Matrix B: shape (3, 4) \n",
            "elements: \n",
            "[[1. 2. 3. 4.]\n",
            " [1. 2. 3. 4.]\n",
            " [1. 2. 3. 4.]]\n",
            "\n",
            "Matrix C: shape (2, 4) \n",
            "elements: \n",
            "[[ 3.  6.  9. 12.]\n",
            " [ 3.  6.  9. 12.]]\n"
          ],
          "name": "stdout"
        }
      ]
    },
    {
      "cell_type": "code",
      "metadata": {
        "id": "zSvjKKOacN1H",
        "colab": {
          "base_uri": "https://localhost:8080/"
        },
        "outputId": "60db80f0-4ffd-4502-f54f-41c898307c21"
      },
      "source": [
        "#Make multiplication of two Tensors ramdon of order 3, wyhir shape of [5,5,5]\n",
        "#------ Your code is here ----------\n",
        "generator = tf.random.Generator.from_seed(123)\n",
        "\n",
        "A = generator.normal(shape=(5,5,5)).numpy()\n",
        "B = generator.normal(shape=(5,5,5)).numpy()\n",
        "\n",
        "\n",
        "matrix_multiply_C = tf.matmul(A, B, name=\"matrix_multiply_C\").numpy()\n",
        "matrix_multiply_C"
      ],
      "execution_count": 18,
      "outputs": [
        {
          "output_type": "execute_result",
          "data": {
            "text/plain": [
              "array([[[ 2.73544049e+00,  2.06835341e+00,  3.39515591e+00,\n",
              "         -7.83582151e-01, -1.00400972e+00],\n",
              "        [-9.12819803e-01,  6.24405384e-01,  1.19057548e+00,\n",
              "         -3.41336370e-01, -1.02684677e+00],\n",
              "        [-4.03899384e+00, -1.88193643e+00,  1.11515367e+00,\n",
              "         -8.17921102e-01, -2.21248657e-01],\n",
              "        [-8.77507806e-01, -1.47227621e+00,  3.86146736e+00,\n",
              "         -5.27728415e+00, -1.03618634e+00],\n",
              "        [ 1.55291975e+00, -1.12832665e+00, -1.47209334e+00,\n",
              "         -7.43327320e-01,  1.80674422e+00]],\n",
              "\n",
              "       [[ 3.23316276e-01,  1.45869923e+00,  3.62342268e-01,\n",
              "         -1.79714453e+00, -1.49033737e+00],\n",
              "        [-6.29566133e-01, -1.92860973e+00, -6.37768149e-01,\n",
              "          8.39601696e-01,  1.84104383e+00],\n",
              "        [ 1.31198633e+00, -3.46276104e-01,  1.19957852e+00,\n",
              "          1.14039481e+00, -3.67748648e-01],\n",
              "        [-3.06211472e-01, -3.45073313e-01,  7.99570203e-01,\n",
              "          7.30227411e-01,  9.02967393e-01],\n",
              "        [-1.87883461e+00, -2.10616684e+00,  1.94686961e+00,\n",
              "         -2.24160099e+00,  5.68610430e-01]],\n",
              "\n",
              "       [[ 7.79283166e-01, -3.37205529e+00,  5.06388283e+00,\n",
              "         -1.79788220e+00,  4.54846525e+00],\n",
              "        [-2.20458254e-01, -6.38907671e-01,  8.92993987e-01,\n",
              "          5.75571597e-01, -3.96257710e+00],\n",
              "        [-3.88878733e-01, -3.93929899e-01,  5.75425863e-01,\n",
              "          6.77083135e-01,  2.19291282e+00],\n",
              "        [-1.38227296e+00, -8.62389445e-01,  5.51894784e-01,\n",
              "          1.61347055e+00,  5.43657112e+00],\n",
              "        [ 9.45389271e-04,  6.88929379e-01, -1.75933385e+00,\n",
              "         -1.80097997e-01, -3.01954597e-01]],\n",
              "\n",
              "       [[ 2.30904245e+00,  1.66884228e-03, -1.03218842e+00,\n",
              "         -3.93710518e+00, -1.92312610e+00],\n",
              "        [-2.60333514e+00, -9.98060048e-01,  8.07082891e-01,\n",
              "          3.42004943e+00,  1.14143384e+00],\n",
              "        [-1.40649474e+00,  1.14406264e+00,  3.89450103e-01,\n",
              "          4.16854000e+00,  1.39319265e+00],\n",
              "        [-4.53287423e-01, -8.06513488e-01, -4.35555071e-01,\n",
              "         -2.63961244e+00, -2.57035351e+00],\n",
              "        [ 7.97620952e-01,  8.88344109e-01,  5.88954151e-01,\n",
              "         -1.15387785e+00, -1.79381013e+00]],\n",
              "\n",
              "       [[ 1.75869083e+00,  1.14980035e-01,  5.07514514e-02,\n",
              "          1.60887861e+00, -2.23090097e-01],\n",
              "        [-3.39767981e+00,  4.78197098e-01,  1.22554970e+00,\n",
              "         -7.99647510e-01, -2.33814692e+00],\n",
              "        [-5.50861549e+00,  3.70054150e+00, -7.97169268e-01,\n",
              "         -9.60195065e-01, -3.59278393e+00],\n",
              "        [-7.69186354e+00,  4.51925230e+00,  1.98039067e+00,\n",
              "         -2.44979644e+00, -2.75133729e+00],\n",
              "        [-2.20754480e+00, -4.31604719e+00, -5.84241962e+00,\n",
              "          2.52455771e-01,  5.44977951e+00]]], dtype=float32)"
            ]
          },
          "metadata": {},
          "execution_count": 18
        }
      ]
    },
    {
      "cell_type": "markdown",
      "metadata": {
        "id": "pz_vETHqOXpL"
      },
      "source": [
        "To get a matrix containing the product of the individual elements, we use __element wise product__ or __Hadamard product__ and is denoted as $A \\odot B$.\n"
      ]
    },
    {
      "cell_type": "code",
      "metadata": {
        "colab": {
          "base_uri": "https://localhost:8080/"
        },
        "id": "mvYdsHcoahkl",
        "outputId": "c55abe4d-4946-48d5-93a5-72d2ec860f6a"
      },
      "source": [
        "\"\"\"\n",
        "Note that we use multiply to do element wise matrix multiplication and matmul\n",
        "to do matrix multiplication\n",
        "\"\"\"\n",
        "# Creating new Matrix A and B with shapes (3, 3)\n",
        "element_matrix_A = tf.ones([3, 3], name=\"element_matrix_A\")\n",
        "element_matrix_B = tf.constant([[1, 2, 3], [4, 5, 6], [7, 8, 9]], name=\"element_matrix_B\", dtype=tf.float32)\n",
        "\n",
        "# Element wise multiplication of Matrix A and B\n",
        "element_wise_C = tf.multiply(element_matrix_A, element_matrix_B, name=\"element_wise_C\")\n",
        "\n",
        "print(\"\"\"Matrix A: shape {0} \\nelements: \\n{1} \\n\\nMatrix A: shape {2} \\nelements: \\n{3}\\n\n",
        "Matrix C: shape {4} \\nelements: \\n{5}\"\"\".format(element_matrix_A.shape, element_matrix_A, element_matrix_B.shape, \n",
        "                                                element_matrix_B, element_wise_C.shape, element_wise_C))"
      ],
      "execution_count": null,
      "outputs": [
        {
          "output_type": "stream",
          "text": [
            "Matrix A: shape (3, 3) \n",
            "elements: \n",
            "[[1. 1. 1.]\n",
            " [1. 1. 1.]\n",
            " [1. 1. 1.]] \n",
            "\n",
            "Matrix A: shape (3, 3) \n",
            "elements: \n",
            "[[1. 2. 3.]\n",
            " [4. 5. 6.]\n",
            " [7. 8. 9.]]\n",
            "\n",
            "Matrix C: shape (3, 3) \n",
            "elements: \n",
            "[[1. 2. 3.]\n",
            " [4. 5. 6.]\n",
            " [7. 8. 9.]]\n"
          ],
          "name": "stdout"
        }
      ]
    },
    {
      "cell_type": "markdown",
      "metadata": {
        "id": "qSDm2ptGObdH"
      },
      "source": [
        "To compute the dot product between $A$ and $B$ we compute $C_{i, j}$ as the dot product between row *i* of $A$ and column *j* of $B$.\n",
        "\n",
        "![Dot Product](https://raw.githubusercontent.com/adhiraiyan/DeepLearningWithTF2.0/master/notebooks/figures/fig0202b.jpg)"
      ]
    },
    {
      "cell_type": "code",
      "metadata": {
        "colab": {
          "base_uri": "https://localhost:8080/"
        },
        "id": "gLAOBe-DahA3",
        "outputId": "fad7b384-ca5c-4af8-8067-a00c4d7624e3"
      },
      "source": [
        "# Creating Matrix A and B with shapes (3, 3)\n",
        "dot_matrix_A = tf.ones([3, 3], name=\"dot_matrix_A\")\n",
        "dot_matrix_B = tf.constant([[1, 2, 3], [4, 5, 6], [7, 8, 9]], name=\"dot_matrix_B\", dtype=tf.float32)\n",
        "\n",
        "# Dot product of A and B\n",
        "dot_product_C = tf.tensordot(dot_matrix_A, dot_matrix_B, axes=1, name=\"dot_product_C\")\n",
        "\n",
        "print(\"\"\"Matrix A: shape {0} \\nelements: \\n{1} \\n\\nMatrix B: shape {2} \\nelements: \\n{3}\\n\n",
        "Matrix C: shape {4} \\nelements: \\n{5}\"\"\".format(dot_matrix_A.shape, dot_matrix_A, dot_matrix_B.shape, \n",
        "                                                dot_matrix_B, dot_product_C.shape, dot_product_C))"
      ],
      "execution_count": null,
      "outputs": [
        {
          "output_type": "stream",
          "text": [
            "Matrix A: shape (3, 3) \n",
            "elements: \n",
            "[[1. 1. 1.]\n",
            " [1. 1. 1.]\n",
            " [1. 1. 1.]] \n",
            "\n",
            "Matrix B: shape (3, 3) \n",
            "elements: \n",
            "[[1. 2. 3.]\n",
            " [4. 5. 6.]\n",
            " [7. 8. 9.]]\n",
            "\n",
            "Matrix C: shape (3, 3) \n",
            "elements: \n",
            "[[12. 15. 18.]\n",
            " [12. 15. 18.]\n",
            " [12. 15. 18.]]\n"
          ],
          "name": "stdout"
        }
      ]
    },
    {
      "cell_type": "markdown",
      "metadata": {
        "id": "6jzMm9CjOgrR"
      },
      "source": [
        "\n",
        "Some properties of matrix multiplication (Distributive property):\n",
        "\n",
        "$$\\color{orange}{A(B \\pm C) = AB \\pm AC \\tag{4}}$$"
      ]
    },
    {
      "cell_type": "code",
      "metadata": {
        "id": "2a3T93aNlEcr"
      },
      "source": [
        "# Common Matrices to check all the matrix Properties\n",
        "matrix_A = tf.constant([[1, 2], [3, 4]], name=\"matrix_a\")\n",
        "matrix_B = tf.constant([[5, 6], [7, 8]], name=\"matrix_b\")\n",
        "matrix_C = tf.constant([[9, 1], [2, 3]], name=\"matrix_c\")"
      ],
      "execution_count": 20,
      "outputs": []
    },
    {
      "cell_type": "code",
      "metadata": {
        "colab": {
          "base_uri": "https://localhost:8080/"
        },
        "id": "QTryvCNYcDSD",
        "outputId": "1c79fe83-47e9-48ef-a9c9-1e59b6da5859"
      },
      "source": [
        "# Distributive Property\n",
        "print(\"Matrix A: \\n{} \\n\\nMatrix B: \\n{} \\n\\nMatrix C: \\n{}\\n\".format(matrix_A, matrix_B, matrix_C))\n",
        "\n",
        "# AB + AC\n",
        "distributive_RHS = tf.add(tf.matmul(matrix_A, matrix_B), tf.matmul(matrix_A, matrix_C), name=\"RHS\")\n",
        "\n",
        "# A(B+C)\n",
        "distributive_LHS = tf.matmul(matrix_A, (tf.add(matrix_B, matrix_C)), name=\"LHS\")\n",
        "\n",
        "\"\"\"\n",
        "Following is another way a conditional statement can be implemented from tensorflow\n",
        "This might not seem very useful now but I want to introduce it here so you can\n",
        "figure out how it works for a simple example.\n",
        "\"\"\"\n",
        "# To compare each element in the matrix, you need to reduce it first and check if it's equal\n",
        "predictor = tf.reduce_all(tf.equal(distributive_RHS, distributive_LHS))\n",
        "\n",
        "# condition to act on if predictor is True\n",
        "def true_print(): print(\"\"\"Distributive property is valid\n",
        "RHS: AB + AC: \\n{} \\n\\nLHS: A(B+C): \\n{}\"\"\".format(distributive_RHS, distributive_LHS))\n",
        "    \n",
        "# condition to act on if predictor is False    \n",
        "def false_print(): print(\"\"\"You Broke the Distributive Property of Matrix\n",
        "RHS: AB + AC: \\n{} \\n\\nis NOT Equal to LHS: A(B+C): \\n{}\"\"\".format(distributive_RHS, distributive_LHS))\n",
        "    \n",
        "tf.cond(predictor, true_print, false_print)"
      ],
      "execution_count": null,
      "outputs": [
        {
          "output_type": "stream",
          "text": [
            "Matrix A: \n",
            "[[1 2]\n",
            " [3 4]] \n",
            "\n",
            "Matrix B: \n",
            "[[5 6]\n",
            " [7 8]] \n",
            "\n",
            "Matrix C: \n",
            "[[9 1]\n",
            " [2 3]]\n",
            "\n",
            "Distributive property is valid\n",
            "RHS: AB + AC: \n",
            "[[32 29]\n",
            " [78 65]] \n",
            "\n",
            "LHS: A(B+C): \n",
            "[[32 29]\n",
            " [78 65]]\n"
          ],
          "name": "stdout"
        }
      ]
    },
    {
      "cell_type": "markdown",
      "metadata": {
        "id": "hOiY8XZtOoap"
      },
      "source": [
        "Some properties of matrix multiplication (Matrix multiplication is not commutative):\n",
        "\n",
        "$$\\color{orange}{AB \\neq BA \\tag{6}}$$ "
      ]
    },
    {
      "cell_type": "code",
      "metadata": {
        "id": "6Pv8SOxbcC-U",
        "colab": {
          "base_uri": "https://localhost:8080/"
        },
        "outputId": "8141475c-ec3f-4916-ea4a-f2dbb8c08c8b"
      },
      "source": [
        "# Make your code\n",
        "ab = tf.matmul(matrix_A,matrix_B).numpy()\n",
        "ba = tf.matmul(matrix_B,matrix_A).numpy()\n",
        "\n",
        "if tf.math.reduce_all(tf.equal(ab, ba)):\n",
        "  print(\"==\")\n",
        "else:\n",
        "  print(\"!=\")"
      ],
      "execution_count": 37,
      "outputs": [
        {
          "output_type": "stream",
          "name": "stdout",
          "text": [
            "!=\n"
          ]
        }
      ]
    },
    {
      "cell_type": "markdown",
      "metadata": {
        "id": "j1Voc_AgOtIM"
      },
      "source": [
        "Some properties of matrix multiplication (Transpose):\n",
        "\n",
        "$$\\color{orange}{(AB)^\\top = B^{\\top} A^{\\top} \\tag{7}}$$"
      ]
    },
    {
      "cell_type": "code",
      "metadata": {
        "colab": {
          "base_uri": "https://localhost:8080/"
        },
        "id": "Gz7cm3obcCZe",
        "outputId": "2467e477-a752-4a67-86b9-982b1e2bbc50"
      },
      "source": [
        "# Transpose of a matrix\n",
        "print(\"Matrix A: \\n{} \\n\\nMatrix B: \\n{}\\n\".format(matrix_A, matrix_B))\n",
        "\n",
        "# Tensorflow transpose function\n",
        "transpose_RHS = tf.transpose(tf.matmul(matrix_A, matrix_B))\n",
        "\n",
        "# If you are doing matrix multiplication tf.matmul has a parameter to take the tranpose and then matrix multiply\n",
        "transpose_LHS = tf.matmul(matrix_B, matrix_A, transpose_a=True, transpose_b=True)\n",
        "    \n",
        "predictor = tf.reduce_all(tf.equal(transpose_RHS, transpose_LHS))\n",
        "def true_print(): print(\"\"\"Transpose property is valid\n",
        "RHS: (AB):^T \\n{} \\n\\nLHS: (B^T A^T): \\n{}\"\"\".format(transpose_RHS, transpose_LHS))\n",
        "\n",
        "def false_print(): print(\"\"\"You Broke the Transpose Property of Matrix\n",
        "RHS: (AB):^T \\n{} \\n\\nLHS: (B^T A^T): \\n{}\"\"\".format(transpose_RHS, transpose_LHS))\n",
        "    \n",
        "tf.cond(predictor, true_print, false_print)"
      ],
      "execution_count": null,
      "outputs": [
        {
          "output_type": "stream",
          "text": [
            "Matrix A: \n",
            "[[1 2]\n",
            " [3 4]] \n",
            "\n",
            "Matrix B: \n",
            "[[5 6]\n",
            " [7 8]]\n",
            "\n",
            "Transpose property is valid\n",
            "RHS: (AB):^T \n",
            "[[19 43]\n",
            " [22 50]] \n",
            "\n",
            "LHS: (B^T A^T): \n",
            "[[19 43]\n",
            " [22 50]]\n"
          ],
          "name": "stdout"
        }
      ]
    },
    {
      "cell_type": "markdown",
      "metadata": {
        "id": "sltlInVEH1aU"
      },
      "source": [
        "#Identity and Inverse Matrices"
      ]
    },
    {
      "cell_type": "markdown",
      "metadata": {
        "id": "Xg8Y9m_N3miE"
      },
      "source": [
        "Linear algebra offers a powerful tool called __matrix inversion__ that enables us to analytically solve $Ax = b$ for many values of $A$.\n",
        "\n",
        "To describe matrix inversion, we first need to define the concept of an __identity matrix__. An identity matrix is a matrix that does not change any vector when we multiply that vector by that matrix. \n",
        "\n",
        "Such that:\n",
        "\n",
        "$$\\color{orange}{I_n \\in \\mathbb{R}^{n \\times n} \\ \\text{and} \\ \\forall x \\in \\mathbb{R}^n, I_n x = x  \\tag{8}}$$\n",
        "\n",
        "The structure of the identity matrix is simple: all the entries along the main diagonal are 1, while all the other entries are zero."
      ]
    },
    {
      "cell_type": "code",
      "metadata": {
        "colab": {
          "base_uri": "https://localhost:8080/"
        },
        "id": "hDED6gFiH4U9",
        "outputId": "998f25b4-97c2-46d4-b3e2-19ebb23e096d"
      },
      "source": [
        "# let's create a identity matrix I\n",
        "identity_matrix_I = tf.eye(3, 3, dtype=tf.float32, name='IdentityMatrixI')\n",
        "print(\"Identity matrix I: \\n{}\\n\".format(identity_matrix_I))\n",
        "\n",
        "# let's create a 3x1 vector x\n",
        "iim_vector_x = tf.constant([[4], [5], [6]], name='Vector_x', dtype=tf.float32)\n",
        "print(\"Vector x: \\n{}\\n\".format(iim_vector_x))\n",
        "\n",
        "# Ix will result in x\n",
        "iim_matrix_C = tf.matmul(identity_matrix_I, iim_vector_x, name='MatrixC')\n",
        "print(\"Matrix C from Ix: \\n{}\".format(iim_matrix_C))"
      ],
      "execution_count": null,
      "outputs": [
        {
          "output_type": "stream",
          "text": [
            "Identity matrix I: \n",
            "[[1. 0. 0.]\n",
            " [0. 1. 0.]\n",
            " [0. 0. 1.]]\n",
            "\n",
            "Vector x: \n",
            "[[4.]\n",
            " [5.]\n",
            " [6.]]\n",
            "\n",
            "Matrix C from Ix: \n",
            "[[4.]\n",
            " [5.]\n",
            " [6.]]\n"
          ],
          "name": "stdout"
        }
      ]
    },
    {
      "cell_type": "markdown",
      "metadata": {
        "id": "44tX7v9F4Lbv"
      },
      "source": [
        "The __matrix inverse__ of $A$ is denoted as $A^{-1}$, and it is defined as the matrix such that:\n",
        "\n",
        "$$\\color{orange}{A^{-1} A = I_n \\tag{9}}$$"
      ]
    },
    {
      "cell_type": "code",
      "metadata": {
        "colab": {
          "base_uri": "https://localhost:8080/"
        },
        "id": "f6RR6gQB9bTM",
        "outputId": "c31a69bc-90c2-44d2-e7e3-5bc111658d71"
      },
      "source": [
        "iim_matrix_A = tf.constant([[2, 3], [2, 2]], name='MatrixA', dtype=tf.float32)\n",
        "\n",
        "try:\n",
        "    # Tensorflow function to take the inverse\n",
        "    inverse_matrix_A = tf.linalg.inv(iim_matrix_A)\n",
        "    \n",
        "    # Creating a identity matrix using tf.eye\n",
        "    identity_matrix = tf.eye(2, 2, dtype=tf.float32, name=\"identity\")\n",
        "\n",
        "    iim_RHS = identity_matrix\n",
        "    iim_LHS = tf.matmul(inverse_matrix_A, iim_matrix_A, name=\"LHS\")\n",
        "    \n",
        "    predictor = tf.reduce_all(tf.equal(iim_RHS, iim_LHS))\n",
        "    def true_print(): print(\"\"\"A^-1 times A equals the Identity Matrix\n",
        "Matrix A: \\n{0} \\n\\nInverse of Matrix A: \\n{1} \\n\\nRHS: I: \\n{2} \\n\\nLHS: A^(-1) A: \\n{3}\"\"\".format(iim_matrix_A,\n",
        "                                                                                                    inverse_matrix_A,\n",
        "                                                                                                    iim_RHS, \n",
        "                                                                                                    iim_LHS))\n",
        "    def false_print(): print(\"Condition Failed\")\n",
        "    tf.cond(predictor, true_print, false_print)\n",
        "    \n",
        "except:\n",
        "    print(\"\"\"A^-1 doesnt exist\n",
        "    Matrix A: \\n{} \\n\\nInverse of Matrix A: \\n{} \\n\\nRHS: I: \\n{} \n",
        "    \\nLHS: (A^(-1) A): \\n{}\"\"\".format(iim_matrix_A, inverse_matrix_A, iim_RHS, iim_LHS))"
      ],
      "execution_count": null,
      "outputs": [
        {
          "output_type": "stream",
          "text": [
            "A^-1 times A equals the Identity Matrix\n",
            "Matrix A: \n",
            "[[2. 3.]\n",
            " [2. 2.]] \n",
            "\n",
            "Inverse of Matrix A: \n",
            "[[-1.   1.5]\n",
            " [ 1.  -1. ]] \n",
            "\n",
            "RHS: I: \n",
            "[[1. 0.]\n",
            " [0. 1.]] \n",
            "\n",
            "LHS: A^(-1) A: \n",
            "[[1. 0.]\n",
            " [0. 1.]]\n"
          ],
          "name": "stdout"
        }
      ]
    },
    {
      "cell_type": "markdown",
      "metadata": {
        "id": "1CAGKbsr9yZv"
      },
      "source": [
        "If you try different values for Matrix A, you will see that, not all $A$ has an inverse and we will discuss the conditions for the existence of $A^{-1}$ in the following section.\n",
        "\n",
        "We can then solve the equation $Ax = b$ as:\n",
        "\n",
        "$$\\color{Orange}{A^{-1} Ax = A^{-1} b} $$\n",
        "\n",
        "$$\\color{Orange}{I_n x = A^{-1} b} $$\n",
        "$$ \\color{Orange}{x  =A^{-1} b \\tag{10}}$$\n",
        "\n",
        "This process depends on it being possible to find $A^{-1}$. \n",
        "\n",
        "We can calculate the inverse of a matrix by:\n",
        "\n",
        "![Matrix Inverse](https://raw.githubusercontent.com/adhiraiyan/DeepLearningWithTF2.0/master/notebooks/figures/fig0203a.PNG)\n",
        "\n",
        "Lets see how we can solve a simple linear equation: 2x + 3y = 6 and 4x + 9y = 15"
      ]
    },
    {
      "cell_type": "code",
      "metadata": {
        "colab": {
          "base_uri": "https://localhost:8080/"
        },
        "id": "sizO9Oz66KpD",
        "outputId": "95c16a31-2875-4118-e844-a485aa85bec0"
      },
      "source": [
        "# The above system of equation can be written in the matrix format as:\n",
        "sys_matrix_A = tf.constant([[2, 3], [4, 9]], dtype=tf.float32)\n",
        "sys_vector_B = tf.constant([[6], [15]], dtype=tf.float32)\n",
        "print(\"Matrix A: \\n{} \\n\\nVector B: \\n{}\\n\".format(sys_matrix_A, sys_vector_B))\n",
        "\n",
        "# now to solve for x: x = A^(-1)b\n",
        "sys_x = tf.matmul(tf.linalg.inv(sys_matrix_A), sys_vector_B)\n",
        "print(\"Vector x is: \\n{} \\nWhere x = {} and y = {}\".format(sys_x, sys_x[0], sys_x[1]))"
      ],
      "execution_count": null,
      "outputs": [
        {
          "output_type": "stream",
          "text": [
            "Matrix A: \n",
            "[[2. 3.]\n",
            " [4. 9.]] \n",
            "\n",
            "Vector B: \n",
            "[[ 6.]\n",
            " [15.]]\n",
            "\n",
            "Vector x is: \n",
            "[[1.5      ]\n",
            " [1.0000001]] \n",
            "Where x = [1.5] and y = [1.0000001]\n"
          ],
          "name": "stdout"
        }
      ]
    },
    {
      "cell_type": "markdown",
      "metadata": {
        "id": "CrDWCbU5H6ym"
      },
      "source": [
        "#Linear Dependence, Span and Rank"
      ]
    },
    {
      "cell_type": "markdown",
      "metadata": {
        "id": "3J_B7nao9De_"
      },
      "source": [
        "For $A^{-1}$ to exits, $Ax = b$ must have exactly one solution for every value of $b$. It is also possible for the system of equations to have no solutions or infinitely many solutions for some values of $b$. This is simply because we are dealing with linear systems and two lines can't cross more than once. So, they can either cross once, cross never, or have infinite crossing, meaning the two lines are superimposed.\n",
        "\n",
        "Hence if both $x$ and $y$ are solutions then:\n",
        "\n",
        "$z = \\alpha x + (1 - \\alpha)y$ is also a solution for any real $\\alpha$\n",
        "\n",
        "![Linear Dependence](https://raw.githubusercontent.com/adhiraiyan/DeepLearningWithTF2.0/master/notebooks/figures/fig0204a.png)"
      ]
    },
    {
      "cell_type": "markdown",
      "metadata": {
        "id": "yhPzsL6JEHAu"
      },
      "source": [
        "\n",
        "The span of a set of vectors is the set of all linear combinations of the vectors. Formally, a __linear combination__ of some set of vectors \n",
        "$\\{ v^1, \\cdots, v^n\\}$ is given by multiplying each vecor $v^{(i)}$ by a corresponding scalar coefficient and adding the results:\n",
        "\n",
        "$$\\color{Orange}{\\displaystyle\\sum_i c_i v^{(i)} \\tag{11}}$$\n",
        "\n",
        "Determining whether $Ax = b$ has a solution thus amounts to testing whether $b$ is in the span of the columns of $A$. This particular span is known as the __column space__ or the __range__, of $A$. \n",
        "\n",
        "In order for the system $Ax = b$ to have a solution for all values of $b \\in \\mathbb{R}^m$, we require that the column space of $A$ be all of $\\mathbb{R}^m$.\n",
        "\n",
        "A set of vectors $\\{ v^1, \\cdots, v^n\\}$ is __linearly independent__ if the only solution to the vector equation $\\lambda_1 v^1 + \\cdots \\lambda_n v^n = 0 \\ \\text{is} \\ \\lambda_i=0 \\ \\forall  i$. If a set of vectors is not linearly independent, then it is __linearly dependent__.\n",
        "\n",
        "For the matrix to have an inverse, the matrix must be __square__, that is, we require that *m = n* and that all the columns be linearly independent. A square matrix with linearly dependent columns is known as __singular__.\n",
        "\n",
        "If $A$ is not square or is square but singular, solving the equation is still possible, but we cannot use the method of matrix inversion to find the solution.\n",
        "\n",
        "So far we have discussed matrix inverses as being multiplied on the left. It is also possible to define an inverse that is multiplied on the right. For square matrixes, the left inverse and right inverse are equal."
      ]
    },
    {
      "cell_type": "code",
      "metadata": {
        "colab": {
          "base_uri": "https://localhost:8080/"
        },
        "id": "QsZ8dcQgWc6M",
        "outputId": "5ade1084-af0c-4fe5-886e-555b2ec7d6e2"
      },
      "source": [
        "# Lets start by finding for some value of A and x, what the result of x is\n",
        "lds_matrix_A = tf.constant([[3, 1], [1, 2]], name='MatrixA', dtype=tf.float32)\n",
        "lds_vector_x = tf.constant([2, 3], name='vectorX', dtype=tf.float32)\n",
        "lds_b = tf.multiply(lds_matrix_A, lds_vector_x, name=\"b\")\n",
        "\n",
        "# Now let's see if an inverse for Matrix A exists\n",
        "try:\n",
        "    inverse_A = tf.linalg.inv(lds_matrix_A)\n",
        "    print(\"Matrix A is successfully inverted: \\n{}\".format(inverse_A))\n",
        "except:\n",
        "    print(\"Inverse of Matrix A: \\n{} \\ndoesn't exist. \".format(lds_matrix_A))\n",
        "\n",
        "# Let's find the value of x using x = A^(-1)b\n",
        "verify_x = tf.matmul(inverse_A, lds_b, name=\"verifyX\")\n",
        "predictor = tf.equal(lds_vector_x[0], verify_x[0][0]) and tf.equal(lds_vector_x[1], verify_x[1][1])\n",
        "\n",
        "def true_print(): print(\"\"\"\\nThe two x values match, we proved that if a matrix A is invertible\n",
        "Then x = A^T b, \\nwhere x: {}, \\n\\nA^T: \\n{}, \\n\\nb: \\n{}\"\"\".format(lds_vector_x, inverse_A, lds_b))\n",
        "\n",
        "def false_print(): print(\"\"\"\\nThe two x values don't match.\n",
        "Vector x: {} \\n\\nA^(-1)b: \\n{}\"\"\".format(lds_vector_x, verify_x))\n",
        "    \n",
        "tf.cond(predictor, true_print, false_print)"
      ],
      "execution_count": null,
      "outputs": [
        {
          "output_type": "stream",
          "text": [
            "Matrix A is successfully inverted: \n",
            "[[ 0.40000004 -0.20000002]\n",
            " [-0.20000002  0.6       ]]\n",
            "\n",
            "The two x values match, we proved that if a matrix A is invertible\n",
            "Then x = A^T b, \n",
            "where x: [2. 3.], \n",
            "\n",
            "A^T: \n",
            "[[ 0.40000004 -0.20000002]\n",
            " [-0.20000002  0.6       ]], \n",
            "\n",
            "b: \n",
            "[[6. 3.]\n",
            " [2. 6.]]\n"
          ],
          "name": "stdout"
        }
      ]
    },
    {
      "cell_type": "markdown",
      "metadata": {
        "id": "GzrynyTagib-"
      },
      "source": [
        "Note that, finding inverses can be a challenging process if you want to calculate it, but using tensorflow or any other library, you can easily check if the inverse of the matrix exists. If you know the conditions and know how to solve matrix equations using tensorflow, you should be good, but for the reader who wants to go deeper, check [Linear Dependence and Span\n",
        "](https://math.ryerson.ca/~danziger/professor/MTH141/Handouts/depend.pdf) for further examples and definitions."
      ]
    },
    {
      "cell_type": "markdown",
      "metadata": {
        "id": "rB0seiU_H-hx"
      },
      "source": [
        "# Norms and cost functions"
      ]
    },
    {
      "cell_type": "markdown",
      "metadata": {
        "id": "p3ieNjy4oHtr"
      },
      "source": [
        "# Vector Norms:  \n",
        "\n",
        "In machine learning if we need to measure the size of vectors, we use a function called a __norm__. And norm is what is generally used to evaluate the error of a model. Formally, the $L^P$ norm is given by:\n",
        "\n",
        "$$\\color{Orange}{||x||_p = \\big(\\displaystyle\\sum_i |x_i|^p\\big)^{1/p} \\tag{12}}$$\n",
        "\n",
        "for $p \\in \\mathbb{R}, p \\geq 1$\n",
        "\n",
        "On an intuitive level, the norm of a vector $x$ measures the distance from the origin to the point $x$.\n",
        "\n",
        "More rigorously, a norm is any function $f$ that satisfies the following properties:\n",
        "\n",
        "$$\\color{Orange}{f(x) = 0 \\implies x=0} $$\n",
        "\n",
        "$$\\color{Orange}{f(x +y) \\leq f(x) + f(y)} $$\n",
        "$$\\color{Orange}{\\forall \\alpha \\in \\mathbb{R}, f(\\alpha x) = |\\alpha|f(x)  \\tag{13}}$$\n",
        "\n",
        "\n",
        "\n",
        "The $L^2$ norm with *p=2* is known as the __Euclidean norm__. Which is simply the Euclidean distance from the origin to the point identified by $x$. It is also common to measure the size of a vector using the squared $L^2$ norm, which can be calculated simply as $x^{\\top}x$"
      ]
    },
    {
      "cell_type": "code",
      "metadata": {
        "colab": {
          "base_uri": "https://localhost:8080/"
        },
        "id": "1DciOj3Hs2g-",
        "outputId": "4a612a32-11a7-4ba2-c237-49ac1f2ecc90"
      },
      "source": [
        "# Euclidean distance between square root(3^2 + 4^2) calculated by setting ord='euclidean'\n",
        "dist_euclidean = tf.norm([3., 4.], ord='euclidean')\n",
        "print(\"Euclidean Distance: {}\".format(dist_euclidean))\n",
        "\n",
        "# Size of the vector [3., 4.]\n",
        "vector_size = tf.multiply(tf.transpose([3., 4.]), [3., 4.])\n",
        "print(\"Vector Size: {}\".format(vector_size))"
      ],
      "execution_count": null,
      "outputs": [
        {
          "output_type": "stream",
          "text": [
            "Euclidean Distance: 5.0\n",
            "Vector Size: [ 9. 16.]\n"
          ],
          "name": "stdout"
        }
      ]
    },
    {
      "cell_type": "markdown",
      "metadata": {
        "id": "1_Zg24-vs25u"
      },
      "source": [
        "In many contexts, the squared $L^2$ norm may be undesirable, because it increases very slowly near the origin. In many machine learning applications, it is important to discriminate between elements that are exactly zero and elements that are small but nonzero. In these cases, we turn to a function that grows at the same rate in all locations, but retains mathematical simplicity: the $L^1$ norm, which can be simplified to:\n",
        "\n",
        "$$\\color{Orange}{||x||_1 = \\displaystyle\\sum_i |x_i| \\tag{14}}$$\n"
      ]
    },
    {
      "cell_type": "code",
      "metadata": {
        "colab": {
          "base_uri": "https://localhost:8080/",
          "height": 281
        },
        "id": "OlkUawi5wgBn",
        "outputId": "56e87f6b-7108-4a62-caa9-7fcab9cd65ae"
      },
      "source": [
        "def SE(x,y,intc,beta):\n",
        "    return (1./len(x))*(0.5)*sum(y - beta * x - intc)**2\n",
        "\n",
        "def L1(intc,beta,lam):\n",
        "    return lam*(tf.abs(intc) + tf.abs(beta))\n",
        "\n",
        "def L2(intc,beta,lam):\n",
        "    return lam*(intc**2 + beta**2)\n",
        "\n",
        "N = 100\n",
        "x = np.random.randn(N)\n",
        "y = 2 * x + np.random.randn(N)\n",
        "\n",
        "beta_N = 100\n",
        "beta = tf.linspace(-100., 100., beta_N)\n",
        "intc = 0.0\n",
        "\n",
        "SE_array = np.array([SE(x,y,intc,i) for i in beta])\n",
        "L1_array = np.array([L1(intc,i,lam=30) for i in beta])\n",
        "L2_array = np.array([L2(intc,i,lam=1) for i in beta])\n",
        "\n",
        "fig1 = plt.figure()\n",
        "ax1 = fig1.add_subplot(1,1,1)\n",
        "ax1.plot(beta, SE_array, label='Squared L2 Norm')\n",
        "ax1.plot(beta, L1_array, label='L1 norm')\n",
        "ax1.plot(beta, L2_array, label='L2 norm')\n",
        "plt.rc_context({'axes.edgecolor':'orange', 'xtick.color':'red', 'ytick.color':'red'})\n",
        "plt.title('The graph of each of the norms', color='w')\n",
        "plt.legend()\n",
        "fig1.show()"
      ],
      "execution_count": null,
      "outputs": [
        {
          "output_type": "display_data",
          "data": {
            "image/png": "[encoded data removed]",
            "text/plain": [
              "<Figure size 432x288 with 1 Axes>"
            ]
          },
          "metadata": {
            "tags": [],
            "needs_background": "light"
          }
        }
      ]
    },
    {
      "cell_type": "markdown",
      "metadata": {
        "id": "quBP_kBqwfh8"
      },
      "source": [
        "One other norm that commonly arises in machine learning is the $L^{\\infty}$ norm, also known as the __max norm__. This norm simplifies to the absolute value of the element with the largest magnitude in the vector,\n",
        "\n",
        "$$\\color{Orange}{\\parallel x \\parallel_{\\infty} = max_i |x_i| \\tag{15}}$$\n",
        "\n",
        "If we wish to measure the size of a matrix, in context of deep learning, the most common way to do this is with the __Frobenius norm__:\n",
        "\n",
        "$$\\color{Orange}{\\parallel A \\parallel_F = \\sqrt{\\displaystyle\\sum_{i, j} A^2_{i, j}} \\tag{16}}$$\n",
        "\n",
        "which is analogous to the $L^{2}$ norm of a vector.\n",
        "\n",
        "Meaning for example for a matrix:\n",
        "\n",
        "$$\n",
        "A =\n",
        "\\begin{pmatrix}\n",
        "2 & -1 & 5 \\\\\n",
        "0 & 2 & 1 \\\\\n",
        "3  & 1 & 1  \\\\\n",
        "\\end{pmatrix}\n",
        "$$\n",
        " \n",
        "$||A|| = [2^2 + (-1^2) + 5^2 + 0^2 + 2^2 + 1^2 + 3^2 + 1^2 + 1^2]^{1/2}$\n"
      ]
    },
    {
      "cell_type": "code",
      "metadata": {
        "colab": {
          "base_uri": "https://localhost:8080/"
        },
        "id": "nfxO_iSN3N5j",
        "outputId": "4a8039b5-7a8e-4f8b-ce7d-1abfac269799"
      },
      "source": [
        "n_matrix_A = tf.constant([[2, -1, 5], [0, 2, 1], [3, 1, 1]], name=\"matrix_A\", dtype=tf.float32)\n",
        "\n",
        "# Frobenius norm for matrix calculated by setting ord='fro'\n",
        "frobenius_norm = tf.norm(n_matrix_A, ord='fro', axis=(0, 1))\n",
        "print(\"Frobenius norm: {}\".format(frobenius_norm))"
      ],
      "execution_count": null,
      "outputs": [
        {
          "output_type": "stream",
          "text": [
            "Frobenius norm: 6.78233003616333\n"
          ],
          "name": "stdout"
        }
      ]
    },
    {
      "cell_type": "markdown",
      "metadata": {
        "id": "B24sBdA63MuZ"
      },
      "source": [
        "\n",
        "The dot product of two vectors can be rewritten in terms of norms as:\n",
        "\n",
        "$$\\color{Orange}{x^{\\top} y = ||x||_2 ||y||_2 cos\\theta \\tag{17}}$$\n",
        "\n",
        "where $\\theta$ is the angle between $x$ and $y$."
      ]
    },
    {
      "cell_type": "code",
      "metadata": {
        "id": "Nu_UIRga0esb",
        "colab": {
          "base_uri": "https://localhost:8080/",
          "height": 338
        },
        "outputId": "4d958e88-f5bb-4ce0-b62c-b5f982ce39ae"
      },
      "source": [
        "# for x(0, 2) and y(2, 2) cos theta = 45 degrees\n",
        "n_vector_x = tf.constant([[0], [2]], dtype=tf.float32, name=\"vectorX\")\n",
        "n_vector_y = tf.constant([[2], [2]], dtype=tf.float32, name=\"vectorY\")\n",
        "\n",
        "# Due to pi being in, we won't get an exact value so we are rounding our final value\n",
        "prod_RHS = tf.round(tf.multiply(tf.multiply(tf.norm(n_vector_x), tf.norm(n_vector_y)), tf.cos(np.pi/4)))\n",
        "prod_LHS = tf.tensordot(tf.transpose(n_vector_x), n_vector_y, axes=1, name=\"LHS\")\n",
        "\n",
        "predictor = tf.equal(prod_RHS, prod_LHS)\n",
        "def true_print(): print(\"\"\"Dot Product can be rewritten in terms of norms, where \\n\n",
        "RHS: {} \\nLHS: {}\"\"\".format(prod_RHS, prod_LHS))\n",
        "\n",
        "def false_print(): print(\"\"\"Dot Product can not be rewritten in terms of norms, where \\n\n",
        "RHS: {} \\nLHS: {}\"\"\".format(prod_RHS, prod_LHS))\n",
        "    \n",
        "tf.cond(predictor, true_print, false_print)\n",
        "\n",
        "origin=[0,0]\n",
        "plt.rc_context({'axes.edgecolor':'orange', 'xtick.color':'red', 'ytick.color':'red'})\n",
        "plt.xlim(-2, 10)\n",
        "plt.ylim(-1, 10)\n",
        "plt.axvline(x=0, color='grey', zorder=0)\n",
        "plt.axhline(y=0, color='grey', zorder=0)\n",
        "plt.text(-1, 2, r'$\\vec{x}$', size=18)\n",
        "plt.text(2, 1.5, r'$\\vec{y}$', size=18)\n",
        "plt.quiver(*origin, n_vector_x[0], n_vector_y[0], color=['#FF9A13'], scale=8)\n",
        "plt.quiver(*origin, n_vector_x[1], n_vector_y[1], color=['#1190FF'], scale=8)\n",
        "plt.show()"
      ],
      "execution_count": null,
      "outputs": [
        {
          "output_type": "stream",
          "text": [
            "Dot Product can be rewritten in terms of norms, where \n",
            "\n",
            "RHS: 4.0 \n",
            "LHS: [[4.]]\n"
          ],
          "name": "stdout"
        },
        {
          "output_type": "display_data",
          "data": {
            "image/png": "[encoded data removed]",
            "text/plain": [
              "<Figure size 432x288 with 1 Axes>"
            ]
          },
          "metadata": {
            "tags": [],
            "needs_background": "light"
          }
        }
      ]
    },
    {
      "cell_type": "markdown",
      "metadata": {
        "id": "NBTqCwsFUY0-"
      },
      "source": [
        "# Matrix Norms Induced by Vector Norms\n",
        "\n",
        "Suppose a vector norm $\\|\\cdot\\|$ on $K^{m}$ is given. Any $m \\times n$ matrix $A$ induces a linear operator from $K^{n}$ to $K^{m}$ with respect to the standard basis, and one defines the corresponding induced norm or operator norm on the space $K^{m \\times n}$ of all $m \\times n$ matrices as follows:\n",
        "$$ \\color{orange}{\n",
        "\\begin{aligned}\n",
        "\\|A\\| &=\\sup \\left\\{\\|A x\\|: x \\in K^{n} \\text { with }\\|x\\|=1\\right\\} \\\\\n",
        "&=\\sup \\left\\{\\frac{\\|A x\\|}{\\|x\\|}: x \\in K^{n} \\text { with } x \\neq 0\\right\\} .\n",
        "\\end{aligned}}\n",
        "$$\n",
        "In particular, if the $p$ -norm for vectors $(1 \\leq p \\leq \\infty)$ is used for both spaces $K^{n}$ and $K^{m}$, then the corresponding induced operator norm is:\n",
        "$$ \\color{orange}{\n",
        "\\|A\\|_{p}=\\sup _{x \\neq 0} \\frac{\\|A x\\|_{p}}{\\|x\\|_{p}} .}\n",
        "$$\n",
        "__Note:__ These induced norms are different from the \"entrywise\" $p$ -norms and the schatten $p$ -norms for matrices treated below, which are also usually denoted by $\\|A\\|_{p}$"
      ]
    },
    {
      "cell_type": "markdown",
      "metadata": {
        "id": "1q95_nYya8z8"
      },
      "source": [
        "In the special cases of $p=1,2, \\infty$, the induced matrix norms can be computed or estimated by $$\\color{orange}{ \\|A\\|_{1}=\\max _{1 \\leq j \\leq n} \\sum_{i=1}^{m}\\left|a_{i j}\\right|}$$\n",
        "which is simply the maximum absolute column sum of the matrix;\n",
        "$$\\color{orange}{|A\\|_{\\infty}=\\max _{1 \\leq i \\leq m} \\sum_{j=1}^{n}\\left|a_{i j}\\right|}$$\n",
        "which is simply the maximum absolute row sum of the matrix; $\\|A\\|_{2}=\\sigma_{\\max }(A)$\n",
        "where $\\sigma_{\\max }(A)$ represents the largest singular value of matrix $A$. There is an important inequality for the case $p=2$ :\n",
        "$$\\color{orange}{|A\\|_{2}=\\sigma_{\\max }(A) \\leq\\|A\\|_{\\mathrm{F}}=\\left(\\sum_{i=1}^{m} \\sum_{j=1}^{n}\\left|a_{i j}\\right|^{2}\\right)^{\\frac{1}{2}}}$$\n",
        "where $\\|A\\|_{\\mathrm{F}}$ is the Frobenius norm. Equality holds if and only if the matrix $A$ is a rank-one matrix or a zero matrix. This inequality can be derived from the fact that the trace of a matrix is equal to the sum of its eigenvalues.\n",
        "\n",
        "When $p=2$ we have an equivalent definition for $\\color{orange}{ \\|A\\|_{2}}$ as $\\color{orange}{ \\sup \\left\\{x^{T} A y: x, y \\in K^{n}\\right.}$ with $\\color{orange}{ \\left.\\|x\\|_{2}=\\|y\\|_{2}=1\\right\\}}$. It can be shown to be equivalent to the above definitions using the Cauchy-Schwarz inequality."
      ]
    },
    {
      "cell_type": "markdown",
      "metadata": {
        "id": "HyTOdAwWD4fG"
      },
      "source": [
        "# Loss Funtions\n",
        "\n",
        "Loss functions is a method of evaluating “how well your algorithm models your dataset”, these functions allows you to go from $Y \\in \\mathbb{R} ^{m \\times n \\times l \\times \\ldots}$ to $y \\in \\mathbb{R} $. If your predictions are totally off, your loss function will output a higher number. If they’re pretty good, it’ll output a lower number. As you tune your algorithm to try and improve your model, your loss function will tell you if you’re improving or not. ‘Loss’ helps us to understand how much the predicted value differ from actual value. In many applications, we can model our loss function as an optimization problem based on the previously viewed standards: \n",
        "\n",
        "\n",
        "$$\\color{Orange}{min ||y - \\hat{y}||_p = min \\left( \\big(\\displaystyle\\sum_i |y - \\hat{y}|^p\\big)^{1/p} \\right),  \\tag{12}}$$\n",
        "\n",
        "where $y$ is the ground truth and $\\hat{y}$ is the estimated value.\n",
        "\n",
        "For more information about the different functions of loss and your application in certain problems, you can see the link: https://medium.com/@zeeshanmulla/cost-activation-loss-function-neural-network-deep-learning-what-are-these-91167825a4de"
      ]
    },
    {
      "cell_type": "code",
      "metadata": {
        "colab": {
          "base_uri": "https://localhost:8080/"
        },
        "id": "jFJXgI45HPH1",
        "outputId": "65f84748-e54b-46f4-e861-5035c9499170"
      },
      "source": [
        "#Create ground truth and estimated\n",
        "y = tf.constant([1,2,3,4,5,6,7,8,9,0], dtype = tf.float32, name=\"Original\")\n",
        "y_est = tf.constant([1.3, 2.8, 4, 4, 5.3, 6.9, 7.1, 7.8, 9, 0.5], dtype = tf.float32, name=\"Estimated\")\n",
        "error = tf.losses.mse(y, y_est)\n",
        "\n",
        "print(\"Gorung truth: {} \\nEstimated: {} \\nLoss: {:.3f}\".format(y, y_est, error))"
      ],
      "execution_count": null,
      "outputs": [
        {
          "output_type": "stream",
          "text": [
            "Gorung truth: [1. 2. 3. 4. 5. 6. 7. 8. 9. 0.] \n",
            "Estimated: [1.3 2.8 4.  4.  5.3 6.9 7.1 7.8 9.  0.5] \n",
            "Loss: 0.293\n"
          ],
          "name": "stdout"
        }
      ]
    },
    {
      "cell_type": "markdown",
      "metadata": {
        "id": "9e3oICy6IFT4"
      },
      "source": [
        "#Special Kinds of Matrices and Vectors"
      ]
    },
    {
      "cell_type": "markdown",
      "metadata": {
        "id": "dLyr_66noIdk"
      },
      "source": [
        "__Diagonal__ matrices consist mostly of zeros and have nonzero entries only along the main diagonal. Identity matrix is an example of diagonal matrix. We write $diag(v)$ to denote a square diagonal matrix whose diagonal entries are given by the entries of the vector *v*. \n",
        "\n",
        "To compute $diag(v)x$ we only need to scale each element $x_i$ by $v_i$. In other words:\n",
        "\n",
        "$$\\color{orange}{diag(v)x = v \\odot x \\tag{18}}$$"
      ]
    },
    {
      "cell_type": "code",
      "metadata": {
        "colab": {
          "base_uri": "https://localhost:8080/"
        },
        "id": "XfoTbabwIGRC",
        "outputId": "33928da0-b7dc-49d6-acd9-0ecc96628cb9"
      },
      "source": [
        "# create vector v and x\n",
        "sp_vector_v = tf.random.uniform([5], minval=0, maxval=10, dtype = tf.int32, seed = 0, name=\"vector_v\")\n",
        "sp_vector_x = tf.random.uniform([5], minval=0, maxval=10, dtype = tf.int32, seed = 0, name=\"vector_x\")\n",
        "print(\"Vector v: {} \\nVector x: {}\\n\".format(sp_vector_v, sp_vector_x))\n",
        "          \n",
        "# RHS diagonal vector v dot diagonal vector x. The linalg.diag converts a vector to a diagonal matrix\n",
        "sp_RHS = tf.tensordot(tf.linalg.diag(sp_vector_v), tf.linalg.diag(sp_vector_x), axes=1)\n",
        "\n",
        "# LHS diag(v)x\n",
        "sp_LHS = tf.multiply(tf.linalg.diag(sp_vector_v), sp_vector_x)\n",
        "    \n",
        "predictor = tf.reduce_all(tf.equal(sp_RHS, sp_LHS))\n",
        "def true_print(): print(\"Diagonal of v times x: \\n{} \\n\\nis equal to vector v dot vector x: \\n{}\".format(sp_RHS, sp_LHS))\n",
        "def false_print(): print(\"Diagonal of v times x: \\n{} \\n\\nis NOT equal to vector v dot vector x: \\n{}\".format(sp_RHS, sp_LHS))\n",
        "    \n",
        "tf.cond(predictor, true_print, false_print)"
      ],
      "execution_count": null,
      "outputs": [
        {
          "output_type": "stream",
          "text": [
            "Vector v: [1 3 8 5 3] \n",
            "Vector x: [9 0 4 1 4]\n",
            "\n",
            "Diagonal of v times x: \n",
            "[[ 9  0  0  0  0]\n",
            " [ 0  0  0  0  0]\n",
            " [ 0  0 32  0  0]\n",
            " [ 0  0  0  5  0]\n",
            " [ 0  0  0  0 12]] \n",
            "\n",
            "is equal to vector v dot vector x: \n",
            "[[ 9  0  0  0  0]\n",
            " [ 0  0  0  0  0]\n",
            " [ 0  0 32  0  0]\n",
            " [ 0  0  0  5  0]\n",
            " [ 0  0  0  0 12]]\n"
          ],
          "name": "stdout"
        }
      ]
    },
    {
      "cell_type": "markdown",
      "metadata": {
        "id": "k56YwhRu6__p"
      },
      "source": [
        "Inverting a square diagonal matrix is also efficient. The inverse exists only if every diagonal entry is nonzero, and in that case:\n",
        "\n",
        "$$\\color{orange}{diag(v)^{-1} = diag([1/v_1, \\cdots , 1/v_n]^{\\top}) \\tag{19}}$$\n"
      ]
    },
    {
      "cell_type": "code",
      "metadata": {
        "colab": {
          "base_uri": "https://localhost:8080/"
        },
        "id": "Vyx5Iqzy7Aat",
        "outputId": "1a0fcea2-fbbd-4131-b7e4-46c7c06ade0b"
      },
      "source": [
        "try:\n",
        "    # try creating a vector_v with zero elements and see what happens\n",
        "    d_vector_v = tf.random.uniform([5], minval=1, maxval=10, dtype = tf.float32, seed = 0, name=\"vector_v\")\n",
        "    print(\"Vector v: {}\".format(d_vector_v))\n",
        "    \n",
        "    # linalg.diag converts a vector to a diagonal matrix\n",
        "    diag_RHS = tf.linalg.diag(tf.transpose(1. / d_vector_v))\n",
        "    \n",
        "    # we convert the vector to diagonal matrix and take it's inverse\n",
        "    inv_LHS = tf.linalg.inv(tf.linalg.diag(d_vector_v))\n",
        "\n",
        "    predictor = tf.reduce_all(tf.equal(diag_RHS, inv_LHS))\n",
        "    def true_print(): print(\"The inverse of LHS: \\n{} \\n\\nMatch the inverse of RHS: \\n{}\".format(diag_RHS, inv_LHS))\n",
        "    def false_print(): print(\"The inverse of LHS: \\n{} \\n\\n Does not match the inverse of RHS: \\n{}\".format(diag_RHS, inv_LHS))\n",
        "    tf.cond(predictor, true_print, false_print)\n",
        "    \n",
        "except:\n",
        "    print(\"The inverse exists only if every diagonal is nonzero, your vector looks: \\n{}\".format(d_vector_v))"
      ],
      "execution_count": null,
      "outputs": [
        {
          "output_type": "stream",
          "text": [
            "Vector v: [1.9077636 9.731502  8.638878  1.4345318 1.4367076]\n",
            "The inverse of LHS: \n",
            "[[0.524174   0.         0.         0.         0.        ]\n",
            " [0.         0.10275906 0.         0.         0.        ]\n",
            " [0.         0.         0.11575577 0.         0.        ]\n",
            " [0.         0.         0.         0.6970915  0.        ]\n",
            " [0.         0.         0.         0.         0.69603586]] \n",
            "\n",
            "Match the inverse of RHS: \n",
            "[[0.524174   0.         0.         0.         0.        ]\n",
            " [0.         0.10275906 0.         0.         0.        ]\n",
            " [0.         0.         0.11575577 0.         0.        ]\n",
            " [0.         0.         0.         0.6970915  0.        ]\n",
            " [0.         0.         0.         0.         0.69603586]]\n"
          ],
          "name": "stdout"
        }
      ]
    },
    {
      "cell_type": "markdown",
      "metadata": {
        "id": "Y9Q4K-yc7Ayz"
      },
      "source": [
        "Not all diagonal matrices need be square. It is possible to construct a rectangular diagonal matrix. Nonsquare diagonal matrices do not have inverses, but we can still multiply by them cheaply. For a nonsquare diagonal matrix $D$, the product $Dx$ will involve scaling each element of $x$ and either concatenating some zeros to the result, if $D$ is taller than it is wide, or discarding some of the last elements of the vector, if $D$ is wider than it is tall."
      ]
    },
    {
      "cell_type": "markdown",
      "metadata": {
        "id": "hb5WlSwb_Pqh"
      },
      "source": [
        "A __symmetric__ matrix is any matrix that is equal to its own transpose:\n",
        "\n",
        "$A = A^{\\top}$\n",
        "\n",
        "Symmetric matrices often arise when the entries are generated by some function of two arguments that does not depend on the order of the arguments. For example, if $A$ is a matrix of distance measurements, with $A_{i,j}$ giving the distance from point *i* to point *j*, then $A_{i, j} = A_{j, i}$ because distance functions are symmetric."
      ]
    },
    {
      "cell_type": "code",
      "metadata": {
        "colab": {
          "base_uri": "https://localhost:8080/"
        },
        "id": "YjaQdH1V_QEk",
        "outputId": "5847c1e4-ea08-4fa9-e638-6ae91fd84fbd"
      },
      "source": [
        "# create a symmetric matrix\n",
        "sp_matrix_A = tf.constant([[0, 1, 3], [1, 2, 4], [3, 4, 5]], name=\"matrix_a\", dtype=tf.int32)\n",
        "\n",
        "# get the transpose of matrix A\n",
        "sp_transpose_a = tf.transpose(sp_matrix_A)\n",
        "\n",
        "predictor = tf.reduce_all(tf.equal(sp_matrix_A, sp_transpose_a))\n",
        "def true_print(): print(\"Matrix A: \\n{} \\n\\nMatches the the transpose of Matrix A: \\n{}\".format(sp_matrix_A, sp_transpose_a))\n",
        "def false_print(): print(\"Matrix A: \\n{} \\n\\nDoes Not match the the transpose of Matrix A: \\n{}\".format(sp_matrix_A, sp_transpose_a))\n",
        "\n",
        "tf.cond(predictor, true_print, false_print)"
      ],
      "execution_count": null,
      "outputs": [
        {
          "output_type": "stream",
          "text": [
            "Matrix A: \n",
            "[[0 1 3]\n",
            " [1 2 4]\n",
            " [3 4 5]] \n",
            "\n",
            "Matches the the transpose of Matrix A: \n",
            "[[0 1 3]\n",
            " [1 2 4]\n",
            " [3 4 5]]\n"
          ],
          "name": "stdout"
        }
      ]
    },
    {
      "cell_type": "markdown",
      "metadata": {
        "id": "zLbGcoSU_QsK"
      },
      "source": [
        "A vector $x$ and a vector $y$ are __*orthogonal*__ to each other if $x^{\\top} y = 0$. If both vectors have nonzero norm, this means that they are at a 90 degree angle to each other."
      ]
    },
    {
      "cell_type": "code",
      "metadata": {
        "colab": {
          "base_uri": "https://localhost:8080/",
          "height": 425
        },
        "id": "nTJgnoJS_RH0",
        "outputId": "17b9e0d2-abdb-4523-c0a3-e1607d22b311"
      },
      "source": [
        "# Lets create two vectors\n",
        "ortho_vector_x = tf.constant([2, 2], dtype=tf.float32, name=\"vector_x\")\n",
        "ortho_vector_y = tf.constant([2, -2], dtype=tf.float32, name=\"vector_y\")\n",
        "print(\"Vector x: {} \\nVector y: {}\\n\".format(ortho_vector_x, ortho_vector_y))\n",
        "\n",
        "# lets verify if x transpose dot y is zero\n",
        "ortho_LHS = tf.tensordot(tf.transpose(ortho_vector_x), ortho_vector_y, axes=1)\n",
        "print(\"X transpose times y = {}\\n\".format(ortho_LHS))\n",
        "\n",
        "# let's see what their norms are\n",
        "ortho_norm_x = tf.norm(ortho_vector_x)\n",
        "ortho_norm_y = tf.norm(ortho_vector_y)\n",
        "print(\"Norm x: {} \\nNorm y: {}\\n\".format(ortho_norm_x, ortho_norm_y))\n",
        "\n",
        "# If they have non zero norm, let's see what angle they are to each other\n",
        "if tf.logical_and(ortho_norm_x > 0, ortho_norm_y > 0):\n",
        "    # from the equation cos theta = (x dot y)/(norm of x times norm y)\n",
        "    cosine_angle = (tf.divide(tf.tensordot(ortho_vector_x, ortho_vector_y, axes=1), tf.multiply(ortho_norm_x, ortho_norm_y)))\n",
        "    print(\"Angle between vector x and vector y is: {} degrees\".format(tf.acos(cosine_angle) * 180 /np.pi))\n",
        "\n",
        "    origin=[0,0]\n",
        "    plt.rc_context({'axes.edgecolor':'orange', 'xtick.color':'red', 'ytick.color':'red'})\n",
        "    plt.xlim(-1, 10)\n",
        "    plt.ylim(-10, 10)\n",
        "    plt.axvline(x=0, color='grey', zorder=0)\n",
        "    plt.axhline(y=0, color='grey', zorder=0)\n",
        "    plt.text(1, 4, r'$\\vec{x}$', size=18)\n",
        "    plt.text(1, -6, r'$\\vec{y}$', size=18)\n",
        "    plt.quiver(*origin,ortho_vector_x[0], ortho_vector_y[0], color=['#FF9A13'], scale=8)\n",
        "    plt.quiver(*origin,ortho_vector_x[1], ortho_vector_y[1], color=['#1190FF'], scale=8)\n",
        "    plt.show()"
      ],
      "execution_count": null,
      "outputs": [
        {
          "output_type": "stream",
          "text": [
            "Vector x: [2. 2.] \n",
            "Vector y: [ 2. -2.]\n",
            "\n",
            "X transpose times y = 0.0\n",
            "\n",
            "Norm x: 2.8284270763397217 \n",
            "Norm y: 2.8284270763397217\n",
            "\n",
            "Angle between vector x and vector y is: 90.0 degrees\n"
          ],
          "name": "stdout"
        },
        {
          "output_type": "display_data",
          "data": {
            "image/png": "[encoded data removed]",
            "text/plain": [
              "<Figure size 432x288 with 1 Axes>"
            ]
          },
          "metadata": {
            "tags": [],
            "needs_background": "light"
          }
        }
      ]
    },
    {
      "cell_type": "markdown",
      "metadata": {
        "id": "S9TQJmFrvjCs"
      },
      "source": [
        "A __unit vector__ is a vector with a __unit norm__: $||x||_2 = 1$.\n",
        "\n",
        "If two vectors are not only are orthogonal but also have unit norm, we call them __orthonormal__."
      ]
    },
    {
      "cell_type": "markdown",
      "metadata": {
        "id": "Dm3RXJi_CB1e"
      },
      "source": [
        "A __orthogonal matrix__ is a square matrix whose rows are mutually orthonormal and whose columns are mutually orthonormal:\n",
        "\n",
        "$$\\color{Orange}{A^{\\top} A = AA^{\\top} = I \\tag{20}}$$\n",
        "\n",
        "which implies $A^{-1} = A^{\\top}$\n",
        "\n",
        "so orthogonal matrices are of interest because their inverse is very cheap to compute."
      ]
    },
    {
      "cell_type": "code",
      "metadata": {
        "colab": {
          "base_uri": "https://localhost:8080/",
          "height": 530
        },
        "id": "Q2JOiskHCCq8",
        "outputId": "4ab9ed7c-6730-4dc3-e29d-85a1e18546a5"
      },
      "source": [
        "# Lets use sine and cosine to create orthogonal matrix\n",
        "ortho_matrix_A = tf.Variable([[tf.cos(.5), -tf.sin(.5)], [tf.sin(.5), tf.cos(.5)]], name=\"matrixA\")\n",
        "print(\"Matrix A: \\n{}\\n\".format(ortho_matrix_A))\n",
        "\n",
        "# extract columns from the matrix to verify if they are orthogonal\n",
        "col_0 = tf.reshape(ortho_matrix_A[:, 0], [2, 1])\n",
        "col_1 = tf.reshape(ortho_matrix_A[:, 1], [2, 1])\n",
        "row_0 = tf.reshape(ortho_matrix_A[0, :], [2, 1])\n",
        "row_1 = tf.reshape(ortho_matrix_A[1, :], [2, 1])\n",
        "\n",
        "# Verifying if the columns are orthogonal\n",
        "ortho_column = tf.tensordot(tf.transpose(col_0), col_1, axes=2)\n",
        "print(\"Columns are orthogonal: {}\".format(ortho_column))\n",
        "plt.rc_context({'axes.edgecolor':'orange', 'xtick.color':'red', 'ytick.color':'red'})\n",
        "origin = [0, 0]\n",
        "plt.xlim(-2, 2)\n",
        "plt.ylim(-3, 4)\n",
        "plt.axvline(x=0, color='grey', zorder=0)\n",
        "plt.axhline(y=0, color='grey', zorder=0)\n",
        "plt.text(0, 2, r'$\\vec{col_0}$', size=18)\n",
        "plt.text(0.5, -2, r'$\\vec{col_1}$', size=18)\n",
        "plt.quiver(*origin, col_0[0], col_1[0], color=['#FF9A13'], scale=3)\n",
        "plt.quiver(*origin, col_0[1], col_1[1], color=['#FF9A13'], scale=3)\n",
        "\n",
        "# Verifying if the rows are orthogonal\n",
        "ortho_row = tf.tensordot(tf.transpose(row_0), row_1, axes=2)\n",
        "print(\"Rows are orthogonal: {}\\n\".format(ortho_row))\n",
        "plt.text(-1, 2, r'$\\vec{row_0}$', size=18)\n",
        "plt.text(1, 0.5, r'$\\vec{row_1}$', size=18)\n",
        "plt.quiver(*origin, row_0[0], row_1[0], color=['r'], scale=3)\n",
        "plt.quiver(*origin, row_0[1], row_1[1], color=['r'], scale=3)\n",
        "plt.show()\n",
        "\n",
        "# inverse of matrix A\n",
        "ortho_inverse_A = tf.linalg.inv(ortho_matrix_A)\n",
        "\n",
        "# Transpose of matrix A\n",
        "ortho_transpose_A = tf.transpose(ortho_matrix_A)\n",
        "\n",
        "predictor = tf.reduce_all(tf.equal(ortho_inverse_A, ortho_transpose_A))\n",
        "def true_print(): print(\"Inverse of Matrix A: \\n{} \\n\\nEquals the transpose of Matrix A: \\n{}\".format(ortho_inverse_A, ortho_transpose_A))\n",
        "def false_print(): print(\"Inverse of Matrix A: \\n{} \\n\\nDoes not equal the transpose of Matrix A: \\n{}\".format(ortho_inverse_A, ortho_transpose_A))\n",
        "\n",
        "tf.cond(predictor, true_print, false_print)"
      ],
      "execution_count": null,
      "outputs": [
        {
          "output_type": "stream",
          "text": [
            "Matrix A: \n",
            "<tf.Variable 'matrixA:0' shape=(2, 2) dtype=float32, numpy=\n",
            "array([[ 0.87758255, -0.47942555],\n",
            "       [ 0.47942555,  0.87758255]], dtype=float32)>\n",
            "\n",
            "Columns are orthogonal: -1.1908468877663836e-08\n",
            "Rows are orthogonal: 1.1908468877663836e-08\n",
            "\n"
          ],
          "name": "stdout"
        },
        {
          "output_type": "display_data",
          "data": {
            "image/png": "[encoded data removed]",
            "text/plain": [
              "<Figure size 432x288 with 1 Axes>"
            ]
          },
          "metadata": {
            "tags": [],
            "needs_background": "light"
          }
        },
        {
          "output_type": "stream",
          "text": [
            "Inverse of Matrix A: \n",
            "[[ 0.87758255  0.47942555]\n",
            " [-0.47942555  0.87758255]] \n",
            "\n",
            "Equals the transpose of Matrix A: \n",
            "[[ 0.87758255  0.47942555]\n",
            " [-0.47942555  0.87758255]]\n"
          ],
          "name": "stdout"
        }
      ]
    },
    {
      "cell_type": "markdown",
      "metadata": {
        "id": "iqm-A3-mIIQ8"
      },
      "source": [
        "#Eigendecomposition"
      ]
    },
    {
      "cell_type": "markdown",
      "metadata": {
        "id": "C3sxNG4coJKI"
      },
      "source": [
        "We can represent a number, for example 12 as 12 = 2 x 2 x 3. The representation will change depending on whether we write it in base ten or in binary but the above representation will always be true and from that we can conclude that 12 is not divisible by 5 and that any integer multiple of 12 will be divisible by 3. \n",
        "\n",
        "Similarly, we can also decompose matrices in ways that show us information about their functional properties that is not obvious from the representation of the matrix as an array of elements. One of the most widely used kinds of matrix decomposition is called __eigendecomposition__, in which we decompose a matrix into a set of eigenvectors and eigenvalues.\n",
        "\n",
        "An __eigenvector__ of a square matrix $A$ is a nonzero vector $v$ such that multiplication by $A$ alters only the scale of $v$, in short this is a special vector that doesn't change the direction of the matrix when applied to it :\n",
        "\n",
        "$$\\color{Orange}{Av = \\lambda v \\tag{21}}$$\n",
        "\n",
        "The scale $\\lambda$ is known as the __eigenvalue__ corresponding to this eigenvector."
      ]
    },
    {
      "cell_type": "code",
      "metadata": {
        "colab": {
          "base_uri": "https://localhost:8080/",
          "height": 460
        },
        "id": "cepU9Pq-26hW",
        "outputId": "983df11e-fad3-4495-9985-62f54279ede2"
      },
      "source": [
        "# Let's see how we can compute the eigen vectors and values from a matrix\n",
        "e_matrix_A = tf.random.uniform([2, 2], minval=3, maxval=10, dtype=tf.float32, name=\"matrixA\")\n",
        "print(\"Matrix A: \\n{}\\n\".format(e_matrix_A))\n",
        "\n",
        "# Calculating the eigen values and vectors using tf.linalg.eigh, if you only want the values you can use eigvalsh\n",
        "eigen_values_A, eigen_vectors_A = tf.linalg.eigh(e_matrix_A)\n",
        "print(\"Eigen Vectors: \\n{} \\n\\nEigen Values: \\n{}\\n\".format(eigen_vectors_A, eigen_values_A))\n",
        "\n",
        "# Now lets plot our Matrix with the Eigen vector and see how it looks\n",
        "Av = tf.tensordot(e_matrix_A, eigen_vectors_A, axes=0)\n",
        "vector_plot([tf.reshape(Av, [-1]), tf.reshape(eigen_vectors_A, [-1])], 10, 10)"
      ],
      "execution_count": null,
      "outputs": [
        {
          "output_type": "stream",
          "text": [
            "Matrix A: \n",
            "[[5.710063  9.660898 ]\n",
            " [8.952183  3.1878648]]\n",
            "\n",
            "Eigen Vectors: \n",
            "[[-0.65593696  0.75481564]\n",
            " [ 0.75481564  0.65593696]] \n",
            "\n",
            "Eigen Values: \n",
            "[-4.591608 13.489536]\n",
            "\n"
          ],
          "name": "stdout"
        },
        {
          "output_type": "display_data",
          "data": {
            "image/png": "[encoded data removed]",
            "text/plain": [
              "<Figure size 432x288 with 1 Axes>"
            ]
          },
          "metadata": {
            "tags": [],
            "needs_background": "light"
          }
        }
      ]
    },
    {
      "cell_type": "markdown",
      "metadata": {
        "id": "xCepvxWtCz-6"
      },
      "source": [
        "If $v$ is an eigenvector of $A$, then so is any rescaled vector $sv$ for $s \\in \\mathbb{R}, s \\neq 0$."
      ]
    },
    {
      "cell_type": "code",
      "metadata": {
        "colab": {
          "base_uri": "https://localhost:8080/",
          "height": 269
        },
        "id": "lZHzQadlC0Z_",
        "outputId": "c5ffc420-1f48-4ed2-86e2-50a1b8f2dea7"
      },
      "source": [
        "# Lets us multiply our eigen vector by a random value s and plot the above graph again to see the rescaling\n",
        "sv = tf.multiply(5, eigen_vectors_A)\n",
        "vector_plot([tf.reshape(Av, [-1]), tf.reshape(sv, [-1])], 10, 10)"
      ],
      "execution_count": null,
      "outputs": [
        {
          "output_type": "display_data",
          "data": {
            "image/png": "[encoded data removed]",
            "text/plain": [
              "<Figure size 432x288 with 1 Axes>"
            ]
          },
          "metadata": {
            "tags": [],
            "needs_background": "light"
          }
        }
      ]
    },
    {
      "cell_type": "markdown",
      "metadata": {
        "id": "gCZw_K6yC2pW"
      },
      "source": [
        "Suppose that a matrix $A$ has $n$ linearly independent eigenvectors $\\{v^{(1)}, \\cdots, v^{(n)}\\}$ with corresponding eigenvalues $\\{\\lambda_{(1)}, \\cdots, \\lambda_{(n)}\\}$. We may concatenate all the eigenvectors to form a matrix $V$ with one eigenvector per column: $V = [v^{(1)}, \\cdots, v^{(n)}]$. Likewise, we can concatenate the eigenvalues to form a vector $\\lambda = [\\lambda_{(1)}, \\cdots, \\lambda_{(n)}]^{\\top}$. The __eigendecomposition__ of $A$ is then given by\n",
        "\n",
        "$$\\color{Orange}{A = V diag(\\lambda)V^{-1} \\tag{22}}$$\n"
      ]
    },
    {
      "cell_type": "code",
      "metadata": {
        "colab": {
          "base_uri": "https://localhost:8080/"
        },
        "id": "jWQc7HinC3Dw",
        "outputId": "6eb978f5-c1fa-4a95-89cd-05caf6f20339"
      },
      "source": [
        "# Creating a matrix A to find it's decomposition\n",
        "eig_matrix_A = tf.constant([[5, 1], [3, 3]], dtype=tf.float32)\n",
        "new_eigen_values_A, new_eigen_vectors_A = tf.linalg.eigh(eig_matrix_A)\n",
        "\n",
        "print(\"Eigen Values of Matrix A: {} \\n\\nEigen Vector of Matrix A: \\n{}\\n\".format(new_eigen_values_A, new_eigen_vectors_A))\n",
        "\n",
        "# calculate the diag(lamda)\n",
        "diag_lambda = tf.linalg.diag(new_eigen_values_A)\n",
        "print(\"Diagonal of Lambda: \\n{}\\n\".format(diag_lambda))\n",
        "\n",
        "# Find the eigendecomposition of matrix A\n",
        "decomp_A = tf.tensordot(tf.tensordot(eigen_vectors_A, diag_lambda, axes=1), tf.linalg.inv(new_eigen_vectors_A), axes=1)\n",
        "\n",
        "print(\"The decomposition Matrix A: \\n{}\".format(decomp_A))"
      ],
      "execution_count": null,
      "outputs": [
        {
          "output_type": "stream",
          "text": [
            "Eigen Values of Matrix A: [0.8377223 7.1622777] \n",
            "\n",
            "Eigen Vector of Matrix A: \n",
            "[[-0.5847103   0.81124216]\n",
            " [ 0.81124216  0.5847103 ]]\n",
            "\n",
            "Diagonal of Lambda: \n",
            "[[0.8377223 0.       ]\n",
            " [0.        7.1622777]]\n",
            "\n",
            "The decomposition Matrix A: \n",
            "[[4.707031  2.7152884]\n",
            " [3.4414904 3.2599401]]\n"
          ],
          "name": "stdout"
        }
      ]
    },
    {
      "cell_type": "markdown",
      "metadata": {
        "id": "O5aixrcmC3pZ"
      },
      "source": [
        "Not every matrix can be decomposed into eigenvalues and eigenvectors. In some cases, the decomposition exists but involves complex rather than real numbers.\n",
        "\n",
        "In this book, we usually need to decompose only a specific class of matrices that have a simple decomposition. Specifically, every real symmetric matrix can be decomposed into an expression using only real-valued eigenvectors and eigenvalues:\n",
        "\n",
        "$$\\color{Orange}{A = Q \\Lambda Q^{\\top} \\tag{23}}$$\n",
        "\n",
        "where $Q$ is an orthogonal matrix composed of eigenvectors of $A$ and $\\Lambda$ is a diagonal matrix. The eigenvalue $\\Lambda_{i,i}$ is associated with the eigenvector in column *i* of $Q$, denoted as $Q_{:, i}$. Because $Q$ is an orthogonal matrix, we can think of $A$ as scaling space by $\\Lambda_i$ in direction $v^{(i)}$."
      ]
    },
    {
      "cell_type": "code",
      "metadata": {
        "colab": {
          "base_uri": "https://localhost:8080/"
        },
        "id": "c057PJzaK07f",
        "outputId": "470e8365-0409-45a8-8c62-8be3a82bcaef"
      },
      "source": [
        "# In section 2.6 we manually created a matrix to verify if it is symmetric, but what if we don't know the exact values and want to create a random symmetric matrix\n",
        "new_matrix_A = tf.Variable(tf.random.uniform([2,2], minval=1, maxval=10, dtype=tf.float32))\n",
        "\n",
        "# to create an upper triangular matrix from a square one\n",
        "X_upper = tf.linalg.band_part(new_matrix_A, 0, -1)\n",
        "sym_matrix_A = tf.multiply(0.5, (X_upper + tf.transpose(X_upper)))\n",
        "print(\"Symmetric Matrix A: \\n{}\\n\".format(sym_matrix_A))\n",
        "\n",
        "# create orthogonal matrix Q from eigen vectors of A\n",
        "eigen_values_Q, eigen_vectors_Q = tf.linalg.eigh(sym_matrix_A)\n",
        "print(\"Matrix Q: \\n{}\\n\".format(eigen_vectors_Q))\n",
        "\n",
        "# putting eigen values in a diagonal matrix\n",
        "new_diag_lambda = tf.linalg.diag(eigen_values_Q)\n",
        "print(\"Matrix Lambda: \\n{}\\n\".format(new_diag_lambda))\n",
        "\n",
        "sym_RHS = tf.tensordot(tf.tensordot(eigen_vectors_Q, new_diag_lambda, axes=1), tf.transpose(eigen_vectors_Q), axes=1)\n",
        "\n",
        "predictor = tf.reduce_all(tf.equal(tf.round(sym_RHS), tf.round(sym_matrix_A)))\n",
        "def true_print(): print(\"It WORKS. \\nRHS: \\n{} \\n\\nLHS: \\n{}\".format(sym_RHS, sym_matrix_A))\n",
        "def false_print(): print(\"Condition FAILED. \\nRHS: \\n{} \\n\\nLHS: \\n{}\".format(sym_RHS, sym_matrix_A))\n",
        "\n",
        "tf.cond(predictor, true_print, false_print)"
      ],
      "execution_count": null,
      "outputs": [
        {
          "output_type": "stream",
          "text": [
            "Symmetric Matrix A: \n",
            "[[6.449999  3.0690422]\n",
            " [3.0690422 8.044266 ]]\n",
            "\n",
            "Matrix Q: \n",
            "[[-0.79100955 -0.6118038 ]\n",
            " [ 0.6118038  -0.79100955]]\n",
            "\n",
            "Matrix Lambda: \n",
            "[[ 4.0762587  0.       ]\n",
            " [ 0.        10.418007 ]]\n",
            "\n",
            "It WORKS. \n",
            "RHS: \n",
            "[[6.45      3.0690424]\n",
            " [3.0690424 8.044266 ]] \n",
            "\n",
            "LHS: \n",
            "[[6.449999  3.0690422]\n",
            " [3.0690422 8.044266 ]]\n"
          ],
          "name": "stdout"
        }
      ]
    },
    {
      "cell_type": "markdown",
      "metadata": {
        "id": "BcOmR2UyIYmW"
      },
      "source": [
        "The eigendecomposition of a matrix tells us many useful facts about the matrix. The matrix is singular if and only if any of the eigenvalues are zero. The eigendecomposition of a real symmetric matrix can also be used to optimize quadratic expressions of the form$f(x) = x^{\\top} Ax$ subject to $||x||_2 = 1$. \n",
        "\n",
        "The above equation can be solved as following, we know that if $x$ is an Eigenvector of $A$ and $\\lambda$ is the corresponding eigenvalue, then $Ax = \\lambda x$, therefore $f(x) = x^{\\top} Ax = x^{\\top} \\lambda x = x^{\\top} x \\lambda$ and since $||x||_2 = 1$ and $x^{\\top} x =1$, the above equation boils down to $f(x) = \\lambda$\n",
        "\n",
        "Whenever $x$ is equal to an eigenvector of $A, \\ f$ takes on the value of the corresponding eigenvalue and its minimum value within the constraint region is the minimum eigenvalue."
      ]
    },
    {
      "cell_type": "markdown",
      "metadata": {
        "id": "zbuHw8qvHlmH"
      },
      "source": [
        "A matrix whose eigenvalues are all positive is called __positive definite__. A matrix whose eigenvalues are all positive or zero valued is called __positive semidefinite__. Likewise, if all eigenvalues are negative, the matrix is __negative definite__, and if all eigenvalues are negative or zero valued, it is __negative semidefinite__. Positive semidefinite matrices are interesting because they guarantee that $\\forall x, x^{\\top} Ax \\geq 0$. Positive definite matrices additionally guarantee that $x^{\\top} Ax = 0 \\implies x=0$.\n",
        "\n",
        "![Eigenvalue plots](https://raw.githubusercontent.com/adhiraiyan/DeepLearningWithTF2.0/master/notebooks/figures/fig0207a.PNG)"
      ]
    },
    {
      "cell_type": "markdown",
      "metadata": {
        "id": "iSPdyYA5IKfn"
      },
      "source": [
        "#Singular Value Decomposition"
      ]
    },
    {
      "cell_type": "markdown",
      "metadata": {
        "id": "RDsv5fWQoJ0K"
      },
      "source": [
        "The __singular value decomposition (SVD)__ provides another way to factorize a matrix into  __singular vectors__ and __singular values__. The SVD enables us to discover some of the same kind of information as the eigendecomposition reveals, however, the SVD is more generally applicable. Every real matrix has a singular value decomposition, but the same is not true of the eigenvalue decomposition. SVD can be written as:\n",
        "\n",
        "$$\\color{Orange}{A = UDV^{\\top} \\tag{24}}$$\n",
        "\n",
        "Suppose $A$ is an *m x n* matrix, then $U$ is defined to be an *m x m* rotation matrix, $D$ to be an *m x n* matrix scaling & projecting matrix, and $V$ to be an *n x n* rotation matrix.\n",
        "\n",
        "Each of these matrices is defined to have a special structure. The matrices $U$ and $V$ are both defined to be orthogonal matrices $(U^{\\top} = U^{-1} \\ \\text{and} \\ V^{\\top} = V^{-1})$. The matrix $D$ is defined to be a diagonal matrix.\n",
        "\n",
        "The elements along the diagonal of $D$ are known as the __singular values__ of the matrix $A$. The columns of $U$ are known as the __left-singular vectors__. The columns of $V$ are known as the __right-singular vectors__.\n",
        "\n",
        "![Singular Value Decomposition](https://raw.githubusercontent.com/adhiraiyan/DeepLearningWithTF2.0/master/notebooks/figures/fig0208a.png)"
      ]
    },
    {
      "cell_type": "code",
      "metadata": {
        "colab": {
          "base_uri": "https://localhost:8080/"
        },
        "id": "_JFGh7SKEcU9",
        "outputId": "22e8e308-9fa5-4563-a70e-bc77eabf9c43"
      },
      "source": [
        "# mxn matrix A\n",
        "svd_matrix_A = tf.constant([[2, 3], [4, 5], [6, 7]], dtype=tf.float32)\n",
        "print(\"Matrix A: \\n{}\\n\".format(svd_matrix_A))\n",
        "\n",
        "# Using tf.linalg.svd to calculate the singular value decomposition where d: Matrix D, u: Matrix U and v: Matrix V\n",
        "d, u, v = tf.linalg.svd(svd_matrix_A, full_matrices=True, compute_uv=True)\n",
        "print(\"Diagonal D: \\n{} \\n\\nMatrix U: \\n{} \\n\\nMatrix V^T: \\n{}\".format(d, u, v))"
      ],
      "execution_count": null,
      "outputs": [
        {
          "output_type": "stream",
          "text": [
            "Matrix A: \n",
            "[[2. 3.]\n",
            " [4. 5.]\n",
            " [6. 7.]]\n",
            "\n",
            "Diagonal D: \n",
            "[11.782491    0.41578525] \n",
            "\n",
            "Matrix U: \n",
            "[[ 0.30449855 -0.86058956  0.40824753]\n",
            " [ 0.54340035 -0.19506174 -0.81649673]\n",
            " [ 0.7823021   0.47046402  0.4082487 ]] \n",
            "\n",
            "Matrix V^T: \n",
            "[[ 0.63453555  0.7728936 ]\n",
            " [ 0.7728936  -0.63453555]]\n"
          ],
          "name": "stdout"
        }
      ]
    },
    {
      "cell_type": "code",
      "metadata": {
        "colab": {
          "base_uri": "https://localhost:8080/"
        },
        "id": "qLZ6MRJLILAV",
        "outputId": "1a51008d-fc4d-4d2a-b0d0-548da11e8f80"
      },
      "source": [
        "# Lets see if we can bring back the original matrix from the values we have\n",
        "\n",
        "# mxm orthogonal matrix U\n",
        "svd_matrix_U = tf.constant([[0.30449855, -0.86058956, 0.40824753], [0.54340035, -0.19506174, -0.81649673], [0.78230214, 0.47046405, 0.40824872]])\n",
        "print(\"Orthogonal Matrix U: \\n{}\\n\".format(svd_matrix_U))\n",
        "\n",
        "# mxn diagonal matrix D\n",
        "svd_matrix_D = tf.constant([[11.782492, 0], [0, 0.41578525], [0, 0]], dtype=tf.float32)\n",
        "print(\"Diagonal Matrix D: \\n{}\\n\".format(svd_matrix_D))\n",
        "\n",
        "# nxn transpose of matrix V\n",
        "svd_matrix_V_trans = tf.constant([[0.63453555, 0.7728936], [0.7728936, -0.63453555]], dtype=tf.float32)\n",
        "print(\"Transpose Matrix V: \\n{}\\n\".format(svd_matrix_V_trans))\n",
        "\n",
        "# UDV(^T)\n",
        "svd_RHS = tf.tensordot(tf.tensordot(svd_matrix_U, svd_matrix_D, axes=1), svd_matrix_V_trans, axes=1)\n",
        "\n",
        "predictor = tf.reduce_all(tf.equal(tf.round(svd_RHS), svd_matrix_A))\n",
        "def true_print(): print(\"It WORKS. \\nRHS: \\n{} \\n\\nLHS: \\n{}\".format(tf.round(svd_RHS), svd_matrix_A))\n",
        "def false_print(): print(\"Condition FAILED. \\nRHS: \\n{} \\n\\nLHS: \\n{}\".format(tf.round(svd_RHS), svd_matrix_A))\n",
        "    \n",
        "tf.cond(predictor, true_print, false_print)"
      ],
      "execution_count": null,
      "outputs": [
        {
          "output_type": "stream",
          "text": [
            "Orthogonal Matrix U: \n",
            "[[ 0.30449855 -0.86058956  0.40824753]\n",
            " [ 0.54340035 -0.19506174 -0.81649673]\n",
            " [ 0.78230214  0.47046405  0.40824872]]\n",
            "\n",
            "Diagonal Matrix D: \n",
            "[[11.782492    0.        ]\n",
            " [ 0.          0.41578525]\n",
            " [ 0.          0.        ]]\n",
            "\n",
            "Transpose Matrix V: \n",
            "[[ 0.63453555  0.7728936 ]\n",
            " [ 0.7728936  -0.63453555]]\n",
            "\n",
            "It WORKS. \n",
            "RHS: \n",
            "[[2. 3.]\n",
            " [4. 5.]\n",
            " [6. 7.]] \n",
            "\n",
            "LHS: \n",
            "[[2. 3.]\n",
            " [4. 5.]\n",
            " [6. 7.]]\n"
          ],
          "name": "stdout"
        }
      ]
    },
    {
      "cell_type": "markdown",
      "metadata": {
        "id": "a5rObIJ_mfhA"
      },
      "source": [
        "Matrix $A$ can be seen as a linear transformation. This transformation can be decomposed into three sub-transformations: \n",
        "\n",
        "1. Rotation, \n",
        "2. Re-scaling and projecting, \n",
        "3. Rotation. \n",
        "\n",
        "These three steps correspond to the three matrices $U, D \\ \\text{and} \\ V$\n",
        "\n",
        "Let's see how these transformations are taking place in order"
      ]
    },
    {
      "cell_type": "code",
      "metadata": {
        "colab": {
          "base_uri": "https://localhost:8080/",
          "height": 809
        },
        "id": "LbnTw1v7mgOU",
        "outputId": "00c5bdab-1a92-4d84-a507-0ab76788964d"
      },
      "source": [
        "# Let's define a unit square\n",
        "svd_square = tf.constant([[0, 0, 1, 1],[0, 1, 1, 0]], dtype=tf.float32)\n",
        "\n",
        "# a new 2x2 matrix\n",
        "svd_new_matrix = tf.constant([[1, 1.5], [0, 1]])\n",
        "\n",
        "# SVD for the new matrix\n",
        "new_d, new_u, new_v = tf.linalg.svd(svd_new_matrix, full_matrices=True, compute_uv=True)\n",
        "\n",
        "# lets' change d into a diagonal matrix\n",
        "new_d_marix = tf.linalg.diag(new_d)\n",
        "\n",
        "# Rotation: V^T for a unit square\n",
        "plot_transform(svd_square, tf.tensordot(new_v, svd_square, axes=1), \"$Square$\", \"$V^T \\cdot Square$\", \"Rotation\", axis=[-0.5, 3.5 , -1.5, 1.5])\n",
        "plt.show()\n",
        "\n",
        "# Scaling and Projecting: DV^(T)\n",
        "plot_transform(tf.tensordot(new_v, svd_square, axes=1), tf.tensordot(new_d_marix, tf.tensordot(new_v, svd_square, axes=1), axes=1), \"$V^T \\cdot Square$\", \"$D \\cdot V^T \\cdot Square$\", \n",
        "               \"Scaling and Projecting\", axis=[-0.5, 3.5 , -1.5, 1.5])\n",
        "plt.show()\n",
        "\n",
        "# Second Rotation: UDV^(T)\n",
        "trans_1 = tf.tensordot(tf.tensordot(new_d_marix, new_v, axes=1), svd_square, axes=1)\n",
        "trans_2 = tf.tensordot(tf.tensordot(tf.tensordot(new_u, new_d_marix, axes=1), new_v, axes=1), svd_square, axes=1)\n",
        "plot_transform(trans_1, trans_2,\"$U \\cdot D \\cdot V^T \\cdot Square$\", \"$D \\cdot V^T \\cdot Square$\", \n",
        "                    \"Second Rotation\", color=['#1190FF', '#FF9A13'], axis=[-0.5, 3.5 , -1.5, 1.5])\n",
        "plt.show()"
      ],
      "execution_count": null,
      "outputs": [
        {
          "output_type": "display_data",
          "data": {
            "image/png": "[encoded data removed]",
            "text/plain": [
              "<Figure size 432x288 with 1 Axes>"
            ]
          },
          "metadata": {
            "tags": [],
            "needs_background": "light"
          }
        },
        {
          "output_type": "display_data",
          "data": {
            "image/png": "[encoded data removed]",
            "text/plain": [
              "<Figure size 432x288 with 1 Axes>"
            ]
          },
          "metadata": {
            "tags": [],
            "needs_background": "light"
          }
        },
        {
          "output_type": "display_data",
          "data": {
            "image/png": "[encoded data removed]",
            "text/plain": [
              "<Figure size 432x288 with 1 Axes>"
            ]
          },
          "metadata": {
            "tags": [],
            "needs_background": "light"
          }
        }
      ]
    },
    {
      "cell_type": "markdown",
      "metadata": {
        "id": "NdrBXo-PmQY1"
      },
      "source": [
        "The above sub transformations can be found for each matrix as follows:\n",
        "\n",
        "- $U$ corresponds to the eigenvectors of $A A^{\\top}$ \n",
        "- $V$ corresponds to the eigenvectors of $A^{\\top} A$\n",
        "- $D$ corresponds to the eigenvalues $A A^{\\top}$  or $A^{\\top} A$ which are the same.\n",
        "\n",
        "As an exercise try proving this is the case.\n",
        "\n",
        "Perhaps the most useful feature of the SVD is that we can use it to partially generalize matrix inversion to nonsquare matrices, as we will see in the next section."
      ]
    },
    {
      "cell_type": "markdown",
      "metadata": {
        "id": "uzJR2fP5INLH"
      },
      "source": [
        "#The Moore-Penrose Pseudoinverse"
      ]
    },
    {
      "cell_type": "markdown",
      "metadata": {
        "id": "1LQ48tySoKdT"
      },
      "source": [
        "Matrix inversion is not defined for matrices that are not square. Suppose we want to make a left-inverse $B$ of a matrix $A$ so that we can solve a linear equation $Ax = Y$ by left multiplying each side to obtain $x = By$.\n",
        "\n",
        "Depending on the structure of the problem, it may not be possible to design a unique mapping from $A$ to $B$.\n",
        "\n",
        "The __Moore-Penrose pseudoinverse__ enables use to make some headway in these cases. The pseudoinverse of $A$ is defined as a matrix:\n",
        "\n",
        "$$\\color{Orange}{A^+ = lim_{\\alpha \\rightarrow 0} (A^T A + \\alpha I)^{-1} A^{\\top} \\tag{25}}$$\n",
        "\n",
        "Practical algorithms for computing the pseudoinverse are based not on this definition, but rather on the formula:\n",
        "\n",
        "$$\\color{Orange}{A^+ = VD^+U^{\\top} \\tag{26}}$$\n",
        "\n",
        "where $U, D$ and $V$ are the singular decomposition of $A$ and the pseudoinverse of $D^+$ of a diagonal matrix $D$ is obtained by taking the reciprocal of its nonzero elements then taking the transpose of the resulting matrix."
      ]
    },
    {
      "cell_type": "code",
      "metadata": {
        "colab": {
          "base_uri": "https://localhost:8080/"
        },
        "id": "zN0ycGMvINu1",
        "outputId": "3da37ebb-79be-42e5-c1ea-5e2ff35b6df0"
      },
      "source": [
        "# Matrix A\n",
        "mpp_matrix_A = tf.random.uniform([3, 2], minval=1, maxval=10, dtype=tf.float32)\n",
        "print(\"Matrix A: \\n{}\\n\".format(mpp_matrix_A))\n",
        "\n",
        "# Singular Value decomposition of matrix A\n",
        "mpp_d, mpp_u, mpp_v = tf.linalg.svd(mpp_matrix_A, full_matrices=True, compute_uv=True)\n",
        "print(\"Matrix U: \\n{} \\n\\nMatrix V: \\n{}\\n\".format(mpp_u, mpp_v))\n",
        "\n",
        "# pseudo inverse of matrix D\n",
        "d_plus = tf.concat([tf.transpose(tf.linalg.diag(tf.math.reciprocal(mpp_d))), tf.zeros([2, 1])], axis=1)\n",
        "print(\"D plus: \\n{}\\n\".format(d_plus))\n",
        "\n",
        "# moore-penrose pseudoinverse of matrix A\n",
        "matrix_A_star = tf.matmul(tf.matmul(mpp_v, d_plus, transpose_a=True), mpp_u, transpose_b=True)\n",
        "\n",
        "print(\"The Moore-Penrose pseudoinverse of Matrix A: \\n{}\".format(matrix_A_star))"
      ],
      "execution_count": null,
      "outputs": [
        {
          "output_type": "stream",
          "text": [
            "Matrix A: \n",
            "[[9.140357  9.144182 ]\n",
            " [6.204524  1.2572753]\n",
            " [9.130296  3.1738477]]\n",
            "\n",
            "Matrix U: \n",
            "[[ 0.751305    0.6498225  -0.11520312]\n",
            " [ 0.35091314 -0.54119194 -0.7641801 ]\n",
            " [ 0.5589285  -0.533706    0.63463134]] \n",
            "\n",
            "Matrix V: \n",
            "[[ 0.8414404  -0.54034996]\n",
            " [ 0.54034996  0.8414404 ]]\n",
            "\n",
            "D plus: \n",
            "[[0.05947573 0.         0.        ]\n",
            " [0.         0.23584515 0.        ]]\n",
            "\n",
            "The Moore-Penrose pseudoinverse of Matrix A: \n",
            "[[ 0.12041194 -0.05140737 -0.04004319]\n",
            " [ 0.10481181 -0.11867688 -0.12387644]]\n"
          ],
          "name": "stdout"
        }
      ]
    },
    {
      "cell_type": "markdown",
      "metadata": {
        "id": "QNJD5L__fwaL"
      },
      "source": [
        "When $A$ has more columns than rows, then solving a linear equation using the pseudoinverse provides one of the many possible solutions. Specifically, it provides the solution $x = A^+y$ with minimal Euclidean norm $||x||_2$ among all possible solutions."
      ]
    },
    {
      "cell_type": "code",
      "metadata": {
        "colab": {
          "base_uri": "https://localhost:8080/"
        },
        "id": "mRCWcuJnSB4H",
        "outputId": "6971ee51-8e5e-47b4-b84d-c008b23aa8bd"
      },
      "source": [
        "mpp_vector_y = tf.constant([[2], [3], [4]], dtype=tf.float32)\n",
        "print(\"Vector y: \\n{}\\n\".format(mpp_vector_y))\n",
        "\n",
        "mpp_vector_x = tf.matmul(matrix_A_star, mpp_vector_y)\n",
        "print(\"Vector x: \\n{}\".format(mpp_vector_x))"
      ],
      "execution_count": null,
      "outputs": [
        {
          "output_type": "stream",
          "text": [
            "Vector y: \n",
            "[[2.]\n",
            " [3.]\n",
            " [4.]]\n",
            "\n",
            "Vector x: \n",
            "[[-0.07357098]\n",
            " [-0.64191276]]\n"
          ],
          "name": "stdout"
        }
      ]
    },
    {
      "cell_type": "markdown",
      "metadata": {
        "id": "k9thS9HEfxLY"
      },
      "source": [
        "When $A$ has more rows than columns, it is possible for there to be no solution. In this case, using the pseudoinverse gives us the $x$ for which $Ax$ is as close as possible to $y$ in terms of Euclidean norm $||Ax - y||_2$"
      ]
    },
    {
      "cell_type": "markdown",
      "metadata": {
        "id": "KFn1dBPdIPtd"
      },
      "source": [
        "#The Trace Operator"
      ]
    },
    {
      "cell_type": "markdown",
      "metadata": {
        "id": "cdnbW6nLoK-6"
      },
      "source": [
        "The trace operator gives the sum of all the diagonal entries of a matrix:\n",
        "\n",
        "$$\\color{Orange}{Tr(A) = \\displaystyle\\sum_i A_{i,i} \\tag{27}}$$\n"
      ]
    },
    {
      "cell_type": "code",
      "metadata": {
        "colab": {
          "base_uri": "https://localhost:8080/"
        },
        "id": "-A7QQcJ0IQSl",
        "outputId": "b426de96-5574-44a5-bd9d-4dde6fc2e175"
      },
      "source": [
        "# random 3x3 matrix A\n",
        "to_matrix_A = tf.random.uniform([3, 3], minval=0, maxval=10, dtype=tf.float32)\n",
        "\n",
        "# trace of matrix A using tf.linalg.trace\n",
        "trace_matrix_A = tf.linalg.trace(to_matrix_A)\n",
        "\n",
        "print(\"Trace of Matrix A: \\n{} \\nis: {}\".format(to_matrix_A, trace_matrix_A))"
      ],
      "execution_count": null,
      "outputs": [
        {
          "output_type": "stream",
          "text": [
            "Trace of Matrix A: \n",
            "[[6.798562   6.262808   6.0092583 ]\n",
            " [5.140196   5.187434   0.69352627]\n",
            " [0.85868835 2.9870343  0.84777594]] \n",
            "is: 12.833772659301758\n"
          ],
          "name": "stdout"
        }
      ]
    },
    {
      "cell_type": "markdown",
      "metadata": {
        "id": "8UQt98ydgUeC"
      },
      "source": [
        "The trace operator is useful for a variety of reasons. Some operations that are difficult to specify without resorting to summation notation can be specified using matrix products and the trace operator. For example, the trace operator provides\n",
        "an alternative way of writing the Frobenius norm of a matrix:\n",
        "\n",
        "$$\\color{Orange}{||A||_F = \\sqrt{Tr(AA^{\\top})} \\tag{28}}$$\n"
      ]
    },
    {
      "cell_type": "code",
      "metadata": {
        "colab": {
          "base_uri": "https://localhost:8080/"
        },
        "id": "hvnl_PTNgVJK",
        "outputId": "8722d3ac-a683-4556-9450-239aeca58315"
      },
      "source": [
        "# Frobenius Norm of A\n",
        "frobenius_A = tf.norm(to_matrix_A)\n",
        "\n",
        "# sqrt(Tr(A times A^T))\n",
        "trace_rhs = tf.sqrt(tf.linalg.trace(tf.matmul(to_matrix_A, to_matrix_A, transpose_b=True)))\n",
        "\n",
        "predictor = tf.equal(tf.round(frobenius_A), tf.round(trace_rhs))\n",
        "def true_print(): print(\"It WORKS. \\nRHS: {} \\nLHS: {}\".format(frobenius_A, trace_rhs))\n",
        "def false_print(): print(\"Condition FAILED. \\nRHS: {} \\nLHS: {}\".format(frobenius_A, trace_rhs))\n",
        "    \n",
        "tf.cond(predictor, true_print, false_print)"
      ],
      "execution_count": null,
      "outputs": [
        {
          "output_type": "stream",
          "text": [
            "It WORKS. \n",
            "RHS: 13.628826141357422 \n",
            "LHS: 13.628826141357422\n"
          ],
          "name": "stdout"
        }
      ]
    },
    {
      "cell_type": "markdown",
      "metadata": {
        "id": "dKDQCoRmgVve"
      },
      "source": [
        "Writing an expression in terms of the trace operator opens up opportunities to manipulate the expression using many useful identities. For example, the trace operator is invariant to the transpose operator:\n",
        "\n",
        "$$\\color{Orange}{Tr(A) = Tr(A^{\\top}) \\tag{29}}$$\n"
      ]
    },
    {
      "cell_type": "code",
      "metadata": {
        "colab": {
          "base_uri": "https://localhost:8080/"
        },
        "id": "p6L21KbGgWL4",
        "outputId": "61956c4e-54ac-4678-e01f-98d4649d95bb"
      },
      "source": [
        "# Transpose of Matrix A\n",
        "trans_matrix_A = tf.transpose(to_matrix_A)\n",
        "\n",
        "#Trace of the transpose Matrix A\n",
        "trace_trans_A = tf.linalg.trace(trans_matrix_A)\n",
        "\n",
        "predictor = tf.equal(trace_matrix_A, trace_trans_A)\n",
        "def true_print(): print(\"It WORKS. \\nRHS: {} \\nLHS: {}\".format(trace_matrix_A, trace_trans_A))\n",
        "def false_print(): print(\"Condition FAILED. \\nRHS: {} \\nLHS: {}\".format(trace_matrix_A, trace_trans_A))\n",
        "    \n",
        "tf.cond(predictor, true_print, false_print)"
      ],
      "execution_count": null,
      "outputs": [
        {
          "output_type": "stream",
          "text": [
            "It WORKS. \n",
            "RHS: 12.833772659301758 \n",
            "LHS: 12.833772659301758\n"
          ],
          "name": "stdout"
        }
      ]
    },
    {
      "cell_type": "markdown",
      "metadata": {
        "id": "glbzaSZxg-qp"
      },
      "source": [
        "The trace of a square matrix composed of many factors is also invariant to moving the last factor into the first position, if the shapes of the corresponding matrices allow the resulting product to be defined:\n",
        "\n",
        "$$\\color{Orange}{Tr(ABC) = Tr(CAB) = TR(BCA) \\tag{30}}$$\n"
      ]
    },
    {
      "cell_type": "code",
      "metadata": {
        "colab": {
          "base_uri": "https://localhost:8080/"
        },
        "id": "Cb2s2ehwg-Gi",
        "outputId": "f7090d14-ff5f-4f1a-de93-72763203ad34"
      },
      "source": [
        "# random 3x3 matrix B and matrix C\n",
        "to_matrix_B = tf.random.uniform([3, 3], minval=0, maxval=10, dtype=tf.float32)\n",
        "to_matrix_C = tf.random.uniform([3, 3], minval=0, maxval=10, dtype=tf.float32)\n",
        "\n",
        "# ABC\n",
        "abc = tf.tensordot((tf.tensordot(to_matrix_A, to_matrix_B, axes=1)), to_matrix_C, axes=1)\n",
        "\n",
        "# CAB\n",
        "cab = tf.tensordot((tf.tensordot(to_matrix_C, to_matrix_A, axes=1)), to_matrix_B, axes=1)\n",
        "\n",
        "# BCA\n",
        "bca = tf.tensordot((tf.tensordot(to_matrix_B, to_matrix_C, axes=1)), to_matrix_A, axes=1)\n",
        "\n",
        "# trace of matrix ABC, CAB and matrix BCA\n",
        "trace_matrix_abc = tf.linalg.trace(abc)\n",
        "trace_matrix_cab = tf.linalg.trace(cab)\n",
        "trace_matrix_bca = tf.linalg.trace(bca)\n",
        "\n",
        "predictor = tf.equal(tf.round(trace_matrix_abc), tf.round(trace_matrix_cab)) and tf.equal(tf.round(trace_matrix_cab), tf.round(trace_matrix_bca))\n",
        "def true_print(): print(\"It WORKS. \\nABC: {} \\nCAB: {} \\nBCA: {}\".format(trace_matrix_abc, trace_matrix_cab, trace_matrix_bca))\n",
        "def false_print(): print(\"Condition FAILED. \\nABC: {} \\nCAB: {} \\nBCA: {}\".format(trace_matrix_abc, trace_matrix_cab, trace_matrix_bca))\n",
        "    \n",
        "tf.cond(predictor, true_print, false_print)"
      ],
      "execution_count": null,
      "outputs": [
        {
          "output_type": "stream",
          "text": [
            "It WORKS. \n",
            "ABC: 4115.921875 \n",
            "CAB: 4115.921875 \n",
            "BCA: 4115.92138671875\n"
          ],
          "name": "stdout"
        }
      ]
    },
    {
      "cell_type": "markdown",
      "metadata": {
        "id": "doWjKavMhsUa"
      },
      "source": [
        "This invariance to cyclic permutation holds even if the resulting product has a different shape. For example, for $A \\in \\mathbb{R}^{m \\times n}$ and $B \\in \\mathbb{R}^{n \\times m}$, we have $Tr(AB) = Tr(BA)$ even though $AB \\in \\mathbb{R}^{m \\times m}$ and $BA \\in \\mathbb{R}^{n \\times n}$"
      ]
    },
    {
      "cell_type": "code",
      "metadata": {
        "colab": {
          "base_uri": "https://localhost:8080/"
        },
        "id": "G95Dx1kniE34",
        "outputId": "89ca9b74-864e-4f1b-9dfe-b93140a239e9"
      },
      "source": [
        "# mxn matrix A\n",
        "to_new_matrix_A = tf.random.uniform([3, 2], minval=0, maxval=10, dtype=tf.float32)\n",
        "print(\" 3x2 Matrix A: \\n{}\\n\".format(to_new_matrix_A))\n",
        "\n",
        "# mxn matrix B\n",
        "to_new_matrix_B = tf.random.uniform([2, 3], minval=0, maxval=10, dtype=tf.float32)\n",
        "print(\" 3x2 Matrix B: \\n{}\\n\".format(to_new_matrix_B))\n",
        "\n",
        "# trace of matrix AB and BA\n",
        "ab = tf.linalg.trace(tf.matmul(to_new_matrix_A, to_new_matrix_B))\n",
        "ba = tf.linalg.trace(tf.matmul(to_new_matrix_B, to_new_matrix_A))\n",
        "\n",
        "predictor = tf.equal(tf.round(ab), tf.round(ba))\n",
        "def true_print(): print(\"It WORKS. \\nAB: {} \\nBA: {}\".format(ab, ba))\n",
        "def false_print(): print(\"Condition FAILED. \\nAB: {} \\nBA: {}\".format(ab, ba))\n",
        "    \n",
        "tf.cond(predictor, true_print, false_print)"
      ],
      "execution_count": null,
      "outputs": [
        {
          "output_type": "stream",
          "text": [
            " 3x2 Matrix A: \n",
            "[[6.908387  5.509219 ]\n",
            " [3.0871415 2.7304804]\n",
            " [8.388739  3.4471464]]\n",
            "\n",
            " 3x2 Matrix B: \n",
            "[[8.7878227e-01 8.0643549e+00 5.8889389e-04]\n",
            " [2.8471684e+00 9.6426525e+00 9.6638098e+00]]\n",
            "\n",
            "It WORKS. \n",
            "AB: 106.29902648925781 \n",
            "BA: 106.29902648925781\n"
          ],
          "name": "stdout"
        }
      ]
    },
    {
      "cell_type": "markdown",
      "metadata": {
        "id": "QV2My3mJIVMz"
      },
      "source": [
        "#Example: Principal Components Analysis"
      ]
    },
    {
      "cell_type": "markdown",
      "metadata": {
        "id": "25O1Y6aHoMJ5"
      },
      "source": [
        "PCA is a complexity reduction technique that tries to reduce a set of variables down to a smaller set of components that represent most of the information in the variables. This can be thought of as for a collection of data points applying lossy compression, meaning storing the points in a way that require less memory by trading some precision. At a conceptual level, PCA works by identifying sets of variables that share variance, and creating a component to represent that variance.\n",
        "\n",
        "Earlier, when we were doing transpose or the matrix inverse, we relied on using Tensorflow's built in functions but for PCA, there is no such function, except one in the Tensorflow Extended (tft).\n",
        "\n",
        "There are multiple ways you can implement a PCA in Tensorflow but since this algorithm is such an important one in the machine learning world, we will take the long route.\n",
        "\n",
        "The reason for having PCA under Linear Algebra is to show that PCA could be implemented using the theorems we studied in this Chapter."
      ]
    },
    {
      "cell_type": "code",
      "metadata": {
        "colab": {
          "base_uri": "https://localhost:8080/",
          "height": 265
        },
        "id": "nlY8luDeIV53",
        "outputId": "6a81deea-fb56-416e-8c53-fab6068958bf"
      },
      "source": [
        "# To start working with PCA, let's start by creating a 2D data set\n",
        "\n",
        "x_data = tf.multiply(5, tf.random.uniform([100], minval=0, maxval=100, dtype = tf.float32, seed = 0))\n",
        "y_data = tf.multiply(2, x_data) + 1 + tf.random.uniform([100], minval=0, maxval=100, dtype = tf.float32, seed = 0)\n",
        "\n",
        "X = tf.stack([x_data, y_data], axis=1)\n",
        "\n",
        "plt.rc_context({'axes.edgecolor':'orange', 'xtick.color':'red', 'ytick.color':'red'})\n",
        "plt.plot(X[:,0], X[:,1], '+', color='b')\n",
        "plt.grid()"
      ],
      "execution_count": null,
      "outputs": [
        {
          "output_type": "display_data",
          "data": {
            "image/png": "[encoded data removed]",
            "text/plain": [
              "<Figure size 432x288 with 1 Axes>"
            ]
          },
          "metadata": {
            "tags": [],
            "needs_background": "light"
          }
        }
      ]
    },
    {
      "cell_type": "markdown",
      "metadata": {
        "id": "DSc6vX9hvSM-"
      },
      "source": [
        "We start by standardizing the data. Even though the data we created are on the same scales, its always a good practice to start by standardizing the data because most of the time the data you will be working with will be in different scales."
      ]
    },
    {
      "cell_type": "code",
      "metadata": {
        "colab": {
          "base_uri": "https://localhost:8080/",
          "height": 267
        },
        "id": "pM7kT2EptyQ6",
        "outputId": "4b6cdd01-7857-4ccd-d4cf-ff177da839bb"
      },
      "source": [
        "def normalize(data):\n",
        "    # creates a copy of data\n",
        "    X = tf.identity(data)\n",
        "    # calculates the mean\n",
        "    X -=tf.reduce_mean(data, axis=0)\n",
        "    return X\n",
        "\n",
        "normalized_data = normalize(X)\n",
        "plt.plot(normalized_data[:,0], normalized_data[:,1], '+', color='b')\n",
        "plt.grid()"
      ],
      "execution_count": null,
      "outputs": [
        {
          "output_type": "display_data",
          "data": {
            "image/png": "[encoded data removed]",
            "text/plain": [
              "<Figure size 432x288 with 1 Axes>"
            ]
          },
          "metadata": {
            "tags": [],
            "needs_background": "light"
          }
        }
      ]
    },
    {
      "cell_type": "markdown",
      "metadata": {
        "id": "AEH2BAlMjlu_"
      },
      "source": [
        "Recall that PCA can be thought of as applying lossy compression to a collection of $x$ data points. The way we can minimize the loss of precision is by finding some decoding function $f(x) \\approx c$ where $c$ will be the corresponding vector. \n",
        "\n",
        "PCA is defined by our choice of this decoding function. Specifically, to make the decoder very simple, we chose to use matrix multiplication to map $c$ and define $g(c) = Dc$. Our goal is to minimize the distance between the input point $x$ to its reconstruction and to do that we use $L^2$ norm. Which boils down to our encoding function $c = D^{\\top}x$.\n",
        "\n",
        "Finally, to reconstruct the PCA we use the same matrix $D$ to decode all the points and to solve this optimization problem, we use eigendecomposition.\n",
        "\n",
        "Please note that the following equation is the final version of a lot of matrix transformations. I don't provide the derivatives because the goal is to focus on the mathematical implementation, rather than the derivation. But for the curious, You can serach about the derivation in the guide book.\n",
        "\n",
        "$$\\color{Orange}{d^* = argmax_d \\ Tr(d^{\\top} X^{\\top} Xd) \\ \\text{subject to} \\ dd^{\\top} = 1 \\tag{31}}$$\n",
        "\n",
        "To find $d$ we can calculate the eigenvectors $X^{\\top} X$.\n"
      ]
    },
    {
      "cell_type": "code",
      "metadata": {
        "colab": {
          "base_uri": "https://localhost:8080/"
        },
        "id": "EO_rGA_tjmNG",
        "outputId": "57ee3381-6c54-4220-bc35-53019788a270"
      },
      "source": [
        "# Finding the Eigne Values and Vectors for the data\n",
        "eigen_values, eigen_vectors = tf.linalg.eigh(tf.tensordot(tf.transpose(normalized_data), normalized_data, axes=1))\n",
        "\n",
        "print(\"Eigen Vectors: \\n{} \\nEigen Values: \\n{}\".format(eigen_vectors, eigen_values))"
      ],
      "execution_count": null,
      "outputs": [
        {
          "output_type": "stream",
          "text": [
            "Eigen Vectors: \n",
            "[[-0.8908606  -0.45427677]\n",
            " [ 0.45427677 -0.8908606 ]] \n",
            "Eigen Values: \n",
            "[   16500.225 11025235.   ]\n"
          ],
          "name": "stdout"
        }
      ]
    },
    {
      "cell_type": "markdown",
      "metadata": {
        "id": "viN-QXaejoNt"
      },
      "source": [
        "The eigenvectors (principal components) determine the directions of the new feature space, and the eigenvalues determine their magnitude.\n",
        "\n",
        "Now, let's use these Eigenvectors to rotate our data. The goal of the rotation is to end up with a new coordinate system where data is uncorrelated and thus where the basis axes gather all the variance. Thereby reducing the dimension.\n",
        "\n",
        "Recall our encoding function $c = D^{\\top} x$, where $D$ is the matrix containing the eigenvectors that we have calculated before."
      ]
    },
    {
      "cell_type": "code",
      "metadata": {
        "colab": {
          "base_uri": "https://localhost:8080/",
          "height": 265
        },
        "id": "AD2p9v5rEM4S",
        "outputId": "fb4622ad-7839-4517-96df-2783114b43a4"
      },
      "source": [
        "X_new = tf.tensordot(tf.transpose(eigen_vectors), tf.transpose(normalized_data), axes=1)\n",
        "\n",
        "plt.plot(X_new[0, :], X_new[1, :], '+', color='b')\n",
        "plt.xlim(-500, 500)\n",
        "plt.ylim(-700, 700)\n",
        "plt.grid()"
      ],
      "execution_count": null,
      "outputs": [
        {
          "output_type": "display_data",
          "data": {
            "image/png": "[encoded data removed]",
            "text/plain": [
              "<Figure size 432x288 with 1 Axes>"
            ]
          },
          "metadata": {
            "tags": [],
            "needs_background": "light"
          }
        }
      ]
    },
    {
      "cell_type": "markdown",
      "metadata": {
        "id": "a_mkeFu_t1hC"
      },
      "source": [
        "# 💫 Congratulations\n",
        "\n",
        "You have successfully completed Section 1. To recap, we went through the following concepts:\n",
        "\n",
        "- Scalars, Vectors, Matrices and Tensors\n",
        "- Multiplying Matrices and Vectors\n",
        "- Identity and Inverse Matrices\n",
        "- Linear Dependence and Span\n",
        "- Norms and loss functions\n",
        "- Special Kinds of Matrices and Vectors\n",
        "- Eigendecomposition\n",
        "- Singular Value Decomposition\n",
        "- The Moore-Penrose Pseudoinverse\n",
        "- The Trace Operator\n",
        "- The Determinant\n",
        "- Example: Principal Components Analysis\n",
        "\n",
        "We covered a lot of content in one notebook, like I mentioned in the begining, this is not meant to be an absolute beginner or a comprehensive chapter on Linear Algebra, our focus is Deep Learning with Tensorflow, so we only went through the material we need to understand Deep Learning. \n",
        "\n",
        "I tried to minimize the mathematics and focus more on the implementation side but if you like to study linear algebra on all of it's glory, or just want to read more about few sections take a look at [Linear Algebra by Jim Hefferon](http://joshua.smcvt.edu/linearalgebra/book.pdf) or [A First Course in Linear Algebra by Robert A. Beezer](http://linear.ups.edu/download/fcla-3.40-tablet.pdf). "
      ]
    },
    {
      "cell_type": "markdown",
      "metadata": {
        "id": "WoDM5Yzttlki"
      },
      "source": [
        "<!--NAVIGATION-->\n",
        "< [01.00 - Preface](01.00-Introduction.ipynb) | [Contents](Index.ipynb) | [03.00 - Probability and Information Theory](03.00-Probability-and-Information-Theory.ipynb) >\n",
        "\n",
        "<a href=\"https://colab.research.google.com/github/adhiraiyan/DeepLearningWithTF2.0/blob/master/notebooks/02.00-Linear-Algebra.ipynb\"><img align=\"left\" src=\"https://colab.research.google.com/assets/colab-badge.svg\" alt=\"Open in Colab\" title=\"Open and Execute in Google Colaboratory\"></a>\n"
      ]
    }
  ]
}